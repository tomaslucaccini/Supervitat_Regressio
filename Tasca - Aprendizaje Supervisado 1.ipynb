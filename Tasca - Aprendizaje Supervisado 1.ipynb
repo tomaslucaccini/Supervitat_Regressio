{
 "cells": [
  {
   "cell_type": "code",
   "execution_count": 1,
   "metadata": {},
   "outputs": [],
   "source": [
    "import numpy as np\n",
    "import pandas as pd\n",
    "import matplotlib.pyplot as plt\n",
    "import seaborn as sns"
   ]
  },
  {
   "cell_type": "code",
   "execution_count": 2,
   "metadata": {},
   "outputs": [],
   "source": [
    "from sklearn.model_selection import cross_val_score, train_test_split, cross_val_predict\n",
    "from sklearn.preprocessing import StandardScaler\n",
    "from sklearn.preprocessing import scale"
   ]
  },
  {
   "cell_type": "code",
   "execution_count": 3,
   "metadata": {},
   "outputs": [],
   "source": [
    "from sklearn.linear_model import LinearRegression\n",
    "from sklearn.linear_model import Ridge\n",
    "from sklearn.linear_model import Lasso\n",
    "from sklearn.neighbors import KNeighborsRegressor\n",
    "from sklearn.feature_selection import SelectFromModel\n",
    "from sklearn.ensemble import RandomForestClassifier\n",
    "from sklearn.ensemble import RandomForestRegressor\n",
    "from sklearn.tree import DecisionTreeClassifier\n",
    "from sklearn.tree import DecisionTreeRegressor\n",
    "from sklearn.neural_network import MLPClassifier\n",
    "from sklearn.linear_model import Ridge\n",
    "from sklearn.linear_model import Lasso\n",
    "from sklearn.linear_model import ElasticNet"
   ]
  },
  {
   "cell_type": "code",
   "execution_count": 4,
   "metadata": {},
   "outputs": [],
   "source": [
    "from sklearn import preprocessing\n",
    "from sklearn.metrics import r2_score\n",
    "from sklearn import metrics\n",
    "from sklearn import datasets"
   ]
  },
  {
   "cell_type": "code",
   "execution_count": 5,
   "metadata": {},
   "outputs": [],
   "source": [
    "# Sklearn regression model evaluation functions\n",
    "from sklearn.metrics import mean_absolute_error\n",
    "from sklearn.metrics import mean_squared_error\n",
    "from math import sqrt\n",
    "from sklearn.metrics import r2_score"
   ]
  },
  {
   "cell_type": "markdown",
   "metadata": {},
   "source": [
    "### Lectura de Train & Test sets previamente trabajados"
   ]
  },
  {
   "cell_type": "code",
   "execution_count": 6,
   "metadata": {},
   "outputs": [],
   "source": [
    "data = pd.read_csv('Delayed_Flights_no_dummies_train.csv', ',')\n",
    "#test = pd.read_csv('Delayed_Flights_test_final.csv', ',')"
   ]
  },
  {
   "cell_type": "code",
   "execution_count": 7,
   "metadata": {},
   "outputs": [
    {
     "data": {
      "text/plain": [
       "1542690"
      ]
     },
     "execution_count": 7,
     "metadata": {},
     "output_type": "execute_result"
    }
   ],
   "source": [
    "len(data)"
   ]
  },
  {
   "cell_type": "code",
   "execution_count": 8,
   "metadata": {},
   "outputs": [],
   "source": [
    "reduced_sample_train, reduced_sample_test = train_test_split(data, test_size = 0.9, random_state=42)"
   ]
  },
  {
   "cell_type": "code",
   "execution_count": 9,
   "metadata": {},
   "outputs": [
    {
     "data": {
      "text/plain": [
       "154269"
      ]
     },
     "execution_count": 9,
     "metadata": {},
     "output_type": "execute_result"
    }
   ],
   "source": [
    "len(reduced_sample_train)"
   ]
  },
  {
   "cell_type": "code",
   "execution_count": 10,
   "metadata": {},
   "outputs": [],
   "source": [
    "train, test = train_test_split(reduced_sample_train, test_size = 0.2, random_state=42)"
   ]
  },
  {
   "cell_type": "code",
   "execution_count": 11,
   "metadata": {},
   "outputs": [
    {
     "data": {
      "text/html": [
       "<div>\n",
       "<style scoped>\n",
       "    .dataframe tbody tr th:only-of-type {\n",
       "        vertical-align: middle;\n",
       "    }\n",
       "\n",
       "    .dataframe tbody tr th {\n",
       "        vertical-align: top;\n",
       "    }\n",
       "\n",
       "    .dataframe thead th {\n",
       "        text-align: right;\n",
       "    }\n",
       "</style>\n",
       "<table border=\"1\" class=\"dataframe\">\n",
       "  <thead>\n",
       "    <tr style=\"text-align: right;\">\n",
       "      <th></th>\n",
       "      <th>Unnamed: 0</th>\n",
       "      <th>index</th>\n",
       "      <th>DayOfWeek</th>\n",
       "      <th>FullCarrier</th>\n",
       "      <th>Origin</th>\n",
       "      <th>Dest</th>\n",
       "      <th>Cancelled</th>\n",
       "      <th>ArrDelay</th>\n",
       "      <th>CRSElapsedTime</th>\n",
       "      <th>DepDelay</th>\n",
       "      <th>ArrTime</th>\n",
       "      <th>DepTime</th>\n",
       "      <th>AirTime</th>\n",
       "      <th>Distance</th>\n",
       "      <th>AvgSpeed</th>\n",
       "      <th>10%_Delayed</th>\n",
       "      <th>ArrDelay_vs_CRSElapsedTime</th>\n",
       "      <th>Delay_level</th>\n",
       "      <th>ArrTime_Range</th>\n",
       "      <th>DepTime_Range</th>\n",
       "    </tr>\n",
       "  </thead>\n",
       "  <tbody>\n",
       "    <tr>\n",
       "      <td>747974</td>\n",
       "      <td>747976</td>\n",
       "      <td>783552</td>\n",
       "      <td>7</td>\n",
       "      <td>Southwest Airlines Co.</td>\n",
       "      <td>AMA</td>\n",
       "      <td>DAL</td>\n",
       "      <td>0</td>\n",
       "      <td>0.789373</td>\n",
       "      <td>-0.971942</td>\n",
       "      <td>0.956057</td>\n",
       "      <td>21:32</td>\n",
       "      <td>20:34</td>\n",
       "      <td>-0.907845</td>\n",
       "      <td>-0.768833</td>\n",
       "      <td>0.251940</td>\n",
       "      <td>1</td>\n",
       "      <td>1.487356</td>\n",
       "      <td>More_than40%_Delay</td>\n",
       "      <td>2100-2159</td>\n",
       "      <td>2000-2059</td>\n",
       "    </tr>\n",
       "    <tr>\n",
       "      <td>896507</td>\n",
       "      <td>896509</td>\n",
       "      <td>1020179</td>\n",
       "      <td>7</td>\n",
       "      <td>American Airlines Inc.</td>\n",
       "      <td>STL</td>\n",
       "      <td>SFO</td>\n",
       "      <td>0</td>\n",
       "      <td>-0.179340</td>\n",
       "      <td>1.485627</td>\n",
       "      <td>-0.283182</td>\n",
       "      <td>13:02</td>\n",
       "      <td>10:58</td>\n",
       "      <td>1.730294</td>\n",
       "      <td>1.692278</td>\n",
       "      <td>0.608784</td>\n",
       "      <td>1</td>\n",
       "      <td>-0.424566</td>\n",
       "      <td>10_to_20%_Delay</td>\n",
       "      <td>1300-1359</td>\n",
       "      <td>1000-1059</td>\n",
       "    </tr>\n",
       "    <tr>\n",
       "      <td>1525158</td>\n",
       "      <td>1525164</td>\n",
       "      <td>1487969</td>\n",
       "      <td>5</td>\n",
       "      <td>Skywest Airlines Inc.</td>\n",
       "      <td>SLC</td>\n",
       "      <td>RAP</td>\n",
       "      <td>0</td>\n",
       "      <td>-0.637276</td>\n",
       "      <td>-0.494472</td>\n",
       "      <td>-0.696262</td>\n",
       "      <td>18:32</td>\n",
       "      <td>16:53</td>\n",
       "      <td>-0.514310</td>\n",
       "      <td>-0.448122</td>\n",
       "      <td>0.201919</td>\n",
       "      <td>0</td>\n",
       "      <td>-0.538806</td>\n",
       "      <td>Not_delayed</td>\n",
       "      <td>1800-1859</td>\n",
       "      <td>1600-1659</td>\n",
       "    </tr>\n",
       "    <tr>\n",
       "      <td>432233</td>\n",
       "      <td>432234</td>\n",
       "      <td>334687</td>\n",
       "      <td>6</td>\n",
       "      <td>Southwest Airlines Co.</td>\n",
       "      <td>BWI</td>\n",
       "      <td>MHT</td>\n",
       "      <td>0</td>\n",
       "      <td>-0.637276</td>\n",
       "      <td>-0.831510</td>\n",
       "      <td>-0.639933</td>\n",
       "      <td>11:01</td>\n",
       "      <td>09:49</td>\n",
       "      <td>-0.718365</td>\n",
       "      <td>-0.676454</td>\n",
       "      <td>-0.134247</td>\n",
       "      <td>0</td>\n",
       "      <td>-0.508659</td>\n",
       "      <td>Not_delayed</td>\n",
       "      <td>1100-1159</td>\n",
       "      <td>0900-0959</td>\n",
       "    </tr>\n",
       "    <tr>\n",
       "      <td>1161614</td>\n",
       "      <td>1161619</td>\n",
       "      <td>1719971</td>\n",
       "      <td>6</td>\n",
       "      <td>AirTran Airways Corporation</td>\n",
       "      <td>ATL</td>\n",
       "      <td>PIT</td>\n",
       "      <td>0</td>\n",
       "      <td>0.983116</td>\n",
       "      <td>-0.550645</td>\n",
       "      <td>1.312807</td>\n",
       "      <td>01:23</td>\n",
       "      <td>00:03</td>\n",
       "      <td>-0.645488</td>\n",
       "      <td>-0.416748</td>\n",
       "      <td>0.946229</td>\n",
       "      <td>1</td>\n",
       "      <td>1.001839</td>\n",
       "      <td>More_than40%_Delay</td>\n",
       "      <td>0001-0559</td>\n",
       "      <td>0001-0559</td>\n",
       "    </tr>\n",
       "  </tbody>\n",
       "</table>\n",
       "</div>"
      ],
      "text/plain": [
       "         Unnamed: 0    index  DayOfWeek                  FullCarrier Origin  \\\n",
       "747974       747976   783552          7       Southwest Airlines Co.    AMA   \n",
       "896507       896509  1020179          7       American Airlines Inc.    STL   \n",
       "1525158     1525164  1487969          5        Skywest Airlines Inc.    SLC   \n",
       "432233       432234   334687          6       Southwest Airlines Co.    BWI   \n",
       "1161614     1161619  1719971          6  AirTran Airways Corporation    ATL   \n",
       "\n",
       "        Dest  Cancelled  ArrDelay  CRSElapsedTime  DepDelay ArrTime DepTime  \\\n",
       "747974   DAL          0  0.789373       -0.971942  0.956057   21:32   20:34   \n",
       "896507   SFO          0 -0.179340        1.485627 -0.283182   13:02   10:58   \n",
       "1525158  RAP          0 -0.637276       -0.494472 -0.696262   18:32   16:53   \n",
       "432233   MHT          0 -0.637276       -0.831510 -0.639933   11:01   09:49   \n",
       "1161614  PIT          0  0.983116       -0.550645  1.312807   01:23   00:03   \n",
       "\n",
       "          AirTime  Distance  AvgSpeed  10%_Delayed  \\\n",
       "747974  -0.907845 -0.768833  0.251940            1   \n",
       "896507   1.730294  1.692278  0.608784            1   \n",
       "1525158 -0.514310 -0.448122  0.201919            0   \n",
       "432233  -0.718365 -0.676454 -0.134247            0   \n",
       "1161614 -0.645488 -0.416748  0.946229            1   \n",
       "\n",
       "         ArrDelay_vs_CRSElapsedTime         Delay_level ArrTime_Range  \\\n",
       "747974                     1.487356  More_than40%_Delay     2100-2159   \n",
       "896507                    -0.424566     10_to_20%_Delay     1300-1359   \n",
       "1525158                   -0.538806         Not_delayed     1800-1859   \n",
       "432233                    -0.508659         Not_delayed     1100-1159   \n",
       "1161614                    1.001839  More_than40%_Delay     0001-0559   \n",
       "\n",
       "        DepTime_Range  \n",
       "747974      2000-2059  \n",
       "896507      1000-1059  \n",
       "1525158     1600-1659  \n",
       "432233      0900-0959  \n",
       "1161614     0001-0559  "
      ]
     },
     "execution_count": 11,
     "metadata": {},
     "output_type": "execute_result"
    }
   ],
   "source": [
    "train.head()"
   ]
  },
  {
   "cell_type": "code",
   "execution_count": 12,
   "metadata": {},
   "outputs": [
    {
     "data": {
      "text/plain": [
       "Index(['Unnamed: 0', 'index', 'DayOfWeek', 'FullCarrier', 'Origin', 'Dest',\n",
       "       'Cancelled', 'ArrDelay', 'CRSElapsedTime', 'DepDelay', 'ArrTime',\n",
       "       'DepTime', 'AirTime', 'Distance', 'AvgSpeed', '10%_Delayed',\n",
       "       'ArrDelay_vs_CRSElapsedTime', 'Delay_level', 'ArrTime_Range',\n",
       "       'DepTime_Range'],\n",
       "      dtype='object')"
      ]
     },
     "execution_count": 12,
     "metadata": {},
     "output_type": "execute_result"
    }
   ],
   "source": [
    "train.columns"
   ]
  },
  {
   "cell_type": "markdown",
   "metadata": {},
   "source": [
    "# EJERCICIO 1"
   ]
  },
  {
   "cell_type": "markdown",
   "metadata": {},
   "source": [
    "### Modelo rudimentario sin inclusión de variables categóricas"
   ]
  },
  {
   "cell_type": "code",
   "execution_count": 13,
   "metadata": {},
   "outputs": [],
   "source": [
    "columns_to_drop = ['FullCarrier', 'Origin', 'Dest', 'ArrDelay_vs_CRSElapsedTime', 'Delay_level', 'ArrTime_Range', 'DepTime_Range', 'Unnamed: 0', 'index', 'Cancelled', 'ArrDelay', 'CRSElapsedTime', 'ArrTime', 'DepTime', '10%_Delayed']"
   ]
  },
  {
   "cell_type": "code",
   "execution_count": 14,
   "metadata": {},
   "outputs": [],
   "source": [
    "X_train = train.drop(columns = columns_to_drop, axis=1).values\n",
    "y_train = train['ArrDelay'].values"
   ]
  },
  {
   "cell_type": "code",
   "execution_count": 15,
   "metadata": {},
   "outputs": [
    {
     "data": {
      "text/plain": [
       "array([[ 7.        ,  0.95605656, -0.90784465, -0.76883296,  0.25193994],\n",
       "       [ 7.        , -0.28318229,  1.73029353,  1.69227782,  0.60878355],\n",
       "       [ 5.        , -0.69626191, -0.51431022, -0.44812164,  0.20191882],\n",
       "       ...,\n",
       "       [ 4.        ,  0.58052964,  0.05412839, -0.27556501, -0.7074219 ],\n",
       "       [ 1.        , -0.65870921, -0.8932693 , -0.80543589, -0.10057114],\n",
       "       [ 1.        , -0.67748556,  0.18530653,  0.11835216,  0.15790416]])"
      ]
     },
     "execution_count": 15,
     "metadata": {},
     "output_type": "execute_result"
    }
   ],
   "source": [
    "X_train"
   ]
  },
  {
   "cell_type": "code",
   "execution_count": 16,
   "metadata": {},
   "outputs": [],
   "source": [
    "X_test = test.drop(columns = columns_to_drop, axis=1).values\n",
    "y_test = test['ArrDelay'].values"
   ]
  },
  {
   "cell_type": "code",
   "execution_count": 17,
   "metadata": {},
   "outputs": [
    {
     "data": {
      "text/plain": [
       "array([[ 4.        , -0.2456296 ,  3.17325308,  2.86008535,  0.4509413 ],\n",
       "       [ 7.        ,  5.38727426, -0.8641186 , -0.71480008,  0.37088781],\n",
       "       [ 7.        , -0.65870921, -0.13535115, -0.23896209, -0.16162054],\n",
       "       ...,\n",
       "       [ 1.        , -0.4897221 ,  0.37478607,  0.42511951,  0.53926601],\n",
       "       [ 2.        , -0.4897221 ,  1.4533619 ,  1.4691743 ,  0.65801694],\n",
       "       [ 7.        ,  0.31766079,  0.53511491,  0.35191366,  0.03068508]])"
      ]
     },
     "execution_count": 17,
     "metadata": {},
     "output_type": "execute_result"
    }
   ],
   "source": [
    "X_test"
   ]
  },
  {
   "cell_type": "code",
   "execution_count": 18,
   "metadata": {},
   "outputs": [
    {
     "data": {
      "text/html": [
       "<div>\n",
       "<style scoped>\n",
       "    .dataframe tbody tr th:only-of-type {\n",
       "        vertical-align: middle;\n",
       "    }\n",
       "\n",
       "    .dataframe tbody tr th {\n",
       "        vertical-align: top;\n",
       "    }\n",
       "\n",
       "    .dataframe thead th {\n",
       "        text-align: right;\n",
       "    }\n",
       "</style>\n",
       "<table border=\"1\" class=\"dataframe\">\n",
       "  <thead>\n",
       "    <tr style=\"text-align: right;\">\n",
       "      <th></th>\n",
       "      <th>DayOfWeek</th>\n",
       "      <th>DepDelay</th>\n",
       "      <th>AirTime</th>\n",
       "      <th>Distance</th>\n",
       "      <th>AvgSpeed</th>\n",
       "    </tr>\n",
       "  </thead>\n",
       "  <tbody>\n",
       "    <tr>\n",
       "      <td>747974</td>\n",
       "      <td>7</td>\n",
       "      <td>0.956057</td>\n",
       "      <td>-0.907845</td>\n",
       "      <td>-0.768833</td>\n",
       "      <td>0.251940</td>\n",
       "    </tr>\n",
       "    <tr>\n",
       "      <td>896507</td>\n",
       "      <td>7</td>\n",
       "      <td>-0.283182</td>\n",
       "      <td>1.730294</td>\n",
       "      <td>1.692278</td>\n",
       "      <td>0.608784</td>\n",
       "    </tr>\n",
       "    <tr>\n",
       "      <td>1525158</td>\n",
       "      <td>5</td>\n",
       "      <td>-0.696262</td>\n",
       "      <td>-0.514310</td>\n",
       "      <td>-0.448122</td>\n",
       "      <td>0.201919</td>\n",
       "    </tr>\n",
       "    <tr>\n",
       "      <td>432233</td>\n",
       "      <td>6</td>\n",
       "      <td>-0.639933</td>\n",
       "      <td>-0.718365</td>\n",
       "      <td>-0.676454</td>\n",
       "      <td>-0.134247</td>\n",
       "    </tr>\n",
       "    <tr>\n",
       "      <td>1161614</td>\n",
       "      <td>6</td>\n",
       "      <td>1.312807</td>\n",
       "      <td>-0.645488</td>\n",
       "      <td>-0.416748</td>\n",
       "      <td>0.946229</td>\n",
       "    </tr>\n",
       "  </tbody>\n",
       "</table>\n",
       "</div>"
      ],
      "text/plain": [
       "         DayOfWeek  DepDelay   AirTime  Distance  AvgSpeed\n",
       "747974           7  0.956057 -0.907845 -0.768833  0.251940\n",
       "896507           7 -0.283182  1.730294  1.692278  0.608784\n",
       "1525158          5 -0.696262 -0.514310 -0.448122  0.201919\n",
       "432233           6 -0.639933 -0.718365 -0.676454 -0.134247\n",
       "1161614          6  1.312807 -0.645488 -0.416748  0.946229"
      ]
     },
     "execution_count": 18,
     "metadata": {},
     "output_type": "execute_result"
    }
   ],
   "source": [
    "train.drop(columns=columns_to_drop, axis=1).head()"
   ]
  },
  {
   "cell_type": "code",
   "execution_count": 19,
   "metadata": {},
   "outputs": [
    {
     "data": {
      "text/plain": [
       "array([ 0.78937331, -0.17933952, -0.63727649, ...,  0.77176035,\n",
       "       -0.76056722, -0.84863202])"
      ]
     },
     "execution_count": 19,
     "metadata": {},
     "output_type": "execute_result"
    }
   ],
   "source": [
    "y_train"
   ]
  },
  {
   "cell_type": "markdown",
   "metadata": {},
   "source": [
    "### Implementación de Modelo de Regresión Lineal"
   ]
  },
  {
   "cell_type": "code",
   "execution_count": 20,
   "metadata": {},
   "outputs": [
    {
     "name": "stdout",
     "output_type": "stream",
     "text": [
      "Evaluación calidad Modelo\n",
      "    MAE 0.179\n",
      "    RMSE 0.2836\n",
      "    R2 0.9199\n"
     ]
    },
    {
     "data": {
      "text/plain": [
       "[<matplotlib.lines.Line2D at 0x1efb0777e48>]"
      ]
     },
     "execution_count": 20,
     "metadata": {},
     "output_type": "execute_result"
    },
    {
     "data": {
      "image/png": "[encoded data removed]",
      "text/plain": [
       "<Figure size 432x288 with 1 Axes>"
      ]
     },
     "metadata": {},
     "output_type": "display_data"
    }
   ],
   "source": [
    "lr = LinearRegression()\n",
    "lr.fit(X_train, y_train)\n",
    "predictions_lr = lr.predict(X_test)\n",
    "\n",
    "print('Evaluación calidad Modelo')\n",
    "\n",
    "mae_lr = round(mean_absolute_error(y_test, predictions_lr), 4)\n",
    "rmse_lr = round(sqrt(mean_squared_error(y_test, predictions_lr)), 4)\n",
    "r2_lr = round(r2_score(y_test, predictions_lr), 4)\n",
    "\n",
    "print(\"    MAE\", round(mean_absolute_error(y_test, predictions_lr), 4))\n",
    "print(\"    RMSE\", round(sqrt(mean_squared_error(y_test, predictions_lr)), 4))\n",
    "print(\"    R2\", round(r2_score(y_test, predictions_lr), 4))\n",
    "\n",
    " # set viz style\n",
    "sns.set_style('dark')\n",
    "# plot the model\n",
    "plot = sns.scatterplot(y_test, predictions_lr)\n",
    "plot.set(xlabel='Given', ylabel='Prediction')\n",
    "plot.set_title('y_pred vs y_Test')\n",
    "# generate and graph y = x line\n",
    "x_plot = np.linspace(0,5,100)\n",
    "y_plot = x_plot\n",
    "plt.plot(x_plot, y_plot, color='r')"
   ]
  },
  {
   "cell_type": "markdown",
   "metadata": {},
   "source": [
    "### Implementación de DecisionTreeRegressor"
   ]
  },
  {
   "cell_type": "code",
   "execution_count": 21,
   "metadata": {},
   "outputs": [
    {
     "name": "stdout",
     "output_type": "stream",
     "text": [
      "Evaluación calidad Modelo\n",
      "    MAE 0.2637\n",
      "    RMSE 0.3982\n",
      "    R2 0.842\n"
     ]
    },
    {
     "data": {
      "text/plain": [
       "[<matplotlib.lines.Line2D at 0x1efb0904a88>]"
      ]
     },
     "execution_count": 21,
     "metadata": {},
     "output_type": "execute_result"
    },
    {
     "data": {
      "image/png": "[encoded data removed]",
      "text/plain": [
       "<Figure size 432x288 with 1 Axes>"
      ]
     },
     "metadata": {},
     "output_type": "display_data"
    }
   ],
   "source": [
    "dtr = DecisionTreeRegressor(random_state=32)\n",
    "dtr.fit(X_train, y_train)\n",
    "predictions_dtr = dtr.predict(X_test)\n",
    "\n",
    "print('Evaluación calidad Modelo')\n",
    "\n",
    "mae_dtr = round(mean_absolute_error(y_test, predictions_dtr), 4)\n",
    "rmse_dtr = round(sqrt(mean_squared_error(y_test, predictions_dtr)), 4)\n",
    "r2_dtr = round(r2_score(y_test, predictions_dtr), 4)\n",
    "\n",
    "print(\"    MAE\",  mae_dtr)\n",
    "print(\"    RMSE\", rmse_dtr)\n",
    "print(\"    R2\", r2_dtr)\n",
    "\n",
    " # set viz style\n",
    "sns.set_style('dark')\n",
    "# plot the model\n",
    "plot = sns.scatterplot(y_test, predictions_dtr)\n",
    "plot.set(xlabel='Given', ylabel='Prediction')\n",
    "plot.set_title('y_pred vs y_Test')\n",
    "# generate and graph y = x line\n",
    "x_plot = np.linspace(0,5,100)\n",
    "y_plot = x_plot\n",
    "plt.plot(x_plot, y_plot, color='r')"
   ]
  },
  {
   "cell_type": "markdown",
   "metadata": {},
   "source": [
    "### Implementación de Regresión Ridge"
   ]
  },
  {
   "cell_type": "code",
   "execution_count": 22,
   "metadata": {},
   "outputs": [
    {
     "name": "stdout",
     "output_type": "stream",
     "text": [
      "Evaluación calidad Modelo\n",
      "    MAE 0.179\n",
      "    RMSE 0.2836\n",
      "    R2 0.9199\n"
     ]
    },
    {
     "data": {
      "text/plain": [
       "[<matplotlib.lines.Line2D at 0x1efb09503c8>]"
      ]
     },
     "execution_count": 22,
     "metadata": {},
     "output_type": "execute_result"
    },
    {
     "data": {
      "image/png": "[encoded data removed]",
      "text/plain": [
       "<Figure size 432x288 with 1 Axes>"
      ]
     },
     "metadata": {},
     "output_type": "display_data"
    }
   ],
   "source": [
    "rr = Ridge(alpha=1)\n",
    "rr.fit(X_train, y_train)\n",
    "predictions_rr = rr.predict(X_test)\n",
    "\n",
    "print('Evaluación calidad Modelo')\n",
    "\n",
    "mae_rr = round(mean_absolute_error(y_test, predictions_rr), 4)\n",
    "rmse_rr = round(sqrt(mean_squared_error(y_test, predictions_rr)), 4)\n",
    "r2_rr = round(r2_score(y_test, predictions_rr), 4)\n",
    "\n",
    "print(\"    MAE\",  mae_rr)\n",
    "print(\"    RMSE\", rmse_rr)\n",
    "print(\"    R2\", r2_rr)\n",
    "\n",
    " # set viz style\n",
    "sns.set_style('dark')\n",
    "# plot the model\n",
    "plot = sns.scatterplot(y_test, predictions_rr)\n",
    "plot.set(xlabel='Given', ylabel='Prediction')\n",
    "plot.set_title('y_pred vs y_Test')\n",
    "# generate and graph y = x line\n",
    "x_plot = np.linspace(0,5,100)\n",
    "y_plot = x_plot\n",
    "plt.plot(x_plot, y_plot, color='r')"
   ]
  },
  {
   "cell_type": "markdown",
   "metadata": {},
   "source": [
    "### Implementación de Regresión Lasso"
   ]
  },
  {
   "cell_type": "code",
   "execution_count": 23,
   "metadata": {},
   "outputs": [
    {
     "name": "stdout",
     "output_type": "stream",
     "text": [
      "Evaluación calidad Modelo\n",
      "    MAE 0.1934\n",
      "    RMSE 0.3018\n",
      "    R2 0.9093\n"
     ]
    },
    {
     "data": {
      "text/plain": [
       "[<matplotlib.lines.Line2D at 0x1efb0950948>]"
      ]
     },
     "execution_count": 23,
     "metadata": {},
     "output_type": "execute_result"
    },
    {
     "data": {
      "image/png": "[encoded data removed]",
      "text/plain": [
       "<Figure size 432x288 with 1 Axes>"
      ]
     },
     "metadata": {},
     "output_type": "display_data"
    }
   ],
   "source": [
    "lassor = Lasso(alpha=0.01)\n",
    "lassor.fit(X_train, y_train)\n",
    "predictions_lassor = lassor.predict(X_test)\n",
    "\n",
    "print('Evaluación calidad Modelo')\n",
    "\n",
    "mae_lassor = round(mean_absolute_error(y_test, predictions_lassor), 4)\n",
    "rmse_lassor = round(sqrt(mean_squared_error(y_test, predictions_lassor)), 4)\n",
    "r2_lassor = round(r2_score(y_test, predictions_lassor), 4)\n",
    "\n",
    "print(\"    MAE\",  mae_lassor)\n",
    "print(\"    RMSE\", rmse_lassor)\n",
    "print(\"    R2\", r2_lassor)\n",
    "\n",
    " # set viz style\n",
    "sns.set_style('dark')\n",
    "# plot the model\n",
    "plot = sns.scatterplot(y_test, predictions_lassor)\n",
    "plot.set(xlabel='Given', ylabel='Prediction')\n",
    "plot.set_title('y_pred vs y_Test')\n",
    "# generate and graph y = x line\n",
    "x_plot = np.linspace(0,5,100)\n",
    "y_plot = x_plot\n",
    "plt.plot(x_plot, y_plot, color='r')"
   ]
  },
  {
   "cell_type": "markdown",
   "metadata": {},
   "source": [
    "### Implementación de Modelo Elastic Net"
   ]
  },
  {
   "cell_type": "code",
   "execution_count": 24,
   "metadata": {},
   "outputs": [
    {
     "name": "stdout",
     "output_type": "stream",
     "text": [
      "Evaluación calidad Modelo\n",
      "    MAE 0.1845\n",
      "    RMSE 0.2912\n",
      "    R2 0.9155\n"
     ]
    },
    {
     "data": {
      "text/plain": [
       "[<matplotlib.lines.Line2D at 0x1efb13f1c08>]"
      ]
     },
     "execution_count": 24,
     "metadata": {},
     "output_type": "execute_result"
    },
    {
     "data": {
      "image/png": "[encoded data removed]",
      "text/plain": [
       "<Figure size 432x288 with 1 Axes>"
      ]
     },
     "metadata": {},
     "output_type": "display_data"
    }
   ],
   "source": [
    "en = ElasticNet(alpha=0.01)\n",
    "en.fit(X_train, y_train)\n",
    "predictions_en = en.predict(X_test)\n",
    "\n",
    "print('Evaluación calidad Modelo')\n",
    "\n",
    "mae_en = round(mean_absolute_error(y_test, predictions_en), 4)\n",
    "rmse_en = round(sqrt(mean_squared_error(y_test, predictions_en)), 4)\n",
    "r2_en = round(r2_score(y_test, predictions_en), 4)\n",
    "\n",
    "print(\"    MAE\",  mae_en)\n",
    "print(\"    RMSE\", rmse_en)\n",
    "print(\"    R2\", r2_en)\n",
    "\n",
    " # set viz style\n",
    "sns.set_style('dark')\n",
    "# plot the model\n",
    "plot = sns.scatterplot(y_test, predictions_en)\n",
    "plot.set(xlabel='Given', ylabel='Prediction')\n",
    "plot.set_title('y_pred vs y_Test')\n",
    "# generate and graph y = x line\n",
    "x_plot = np.linspace(0,5,100)\n",
    "y_plot = x_plot\n",
    "plt.plot(x_plot, y_plot, color='r')"
   ]
  },
  {
   "cell_type": "markdown",
   "metadata": {},
   "source": [
    "# EJERCICIO 2"
   ]
  },
  {
   "cell_type": "code",
   "execution_count": 25,
   "metadata": {},
   "outputs": [
    {
     "data": {
      "text/html": [
       "<div>\n",
       "<style scoped>\n",
       "    .dataframe tbody tr th:only-of-type {\n",
       "        vertical-align: middle;\n",
       "    }\n",
       "\n",
       "    .dataframe tbody tr th {\n",
       "        vertical-align: top;\n",
       "    }\n",
       "\n",
       "    .dataframe thead th {\n",
       "        text-align: right;\n",
       "    }\n",
       "</style>\n",
       "<table border=\"1\" class=\"dataframe\">\n",
       "  <thead>\n",
       "    <tr style=\"text-align: right;\">\n",
       "      <th></th>\n",
       "      <th>MAE</th>\n",
       "      <th>RMSE</th>\n",
       "      <th>R2</th>\n",
       "    </tr>\n",
       "  </thead>\n",
       "  <tbody>\n",
       "    <tr>\n",
       "      <td>Regresión Lineal</td>\n",
       "      <td>0.1790</td>\n",
       "      <td>0.2836</td>\n",
       "      <td>0.9199</td>\n",
       "    </tr>\n",
       "    <tr>\n",
       "      <td>Decision Tree Reg</td>\n",
       "      <td>0.2637</td>\n",
       "      <td>0.3982</td>\n",
       "      <td>0.8420</td>\n",
       "    </tr>\n",
       "    <tr>\n",
       "      <td>Ridge</td>\n",
       "      <td>0.1790</td>\n",
       "      <td>0.2836</td>\n",
       "      <td>0.9199</td>\n",
       "    </tr>\n",
       "    <tr>\n",
       "      <td>Lasso</td>\n",
       "      <td>0.1934</td>\n",
       "      <td>0.3018</td>\n",
       "      <td>0.9093</td>\n",
       "    </tr>\n",
       "    <tr>\n",
       "      <td>Elastic Net</td>\n",
       "      <td>0.1845</td>\n",
       "      <td>0.2912</td>\n",
       "      <td>0.9155</td>\n",
       "    </tr>\n",
       "  </tbody>\n",
       "</table>\n",
       "</div>"
      ],
      "text/plain": [
       "                      MAE    RMSE      R2\n",
       "Regresión Lineal   0.1790  0.2836  0.9199\n",
       "Decision Tree Reg  0.2637  0.3982  0.8420\n",
       "Ridge              0.1790  0.2836  0.9199\n",
       "Lasso              0.1934  0.3018  0.9093\n",
       "Elastic Net        0.1845  0.2912  0.9155"
      ]
     },
     "execution_count": 25,
     "metadata": {},
     "output_type": "execute_result"
    }
   ],
   "source": [
    "# Comparación de modelos: \n",
    "\n",
    "models_used = ['Regresión Lineal', 'Decision Tree Reg', 'Ridge', 'Lasso', 'Elastic Net']\n",
    "maes = [mae_lr, mae_dtr, mae_rr, mae_lassor, mae_en]\n",
    "rmses = [rmse_lr, rmse_dtr, rmse_rr, rmse_lassor, rmse_en]\n",
    "r2s = [r2_lr, r2_dtr, r2_rr, r2_lassor, r2_en]\n",
    "\n",
    "col={'MAE':maes,'RMSE':rmses, 'R2':r2s}\n",
    "\n",
    "df=pd.DataFrame(data=col,index=models_used)\n",
    "df"
   ]
  },
  {
   "cell_type": "markdown",
   "metadata": {},
   "source": [
    "### <font color='red'> Los modelos de Regresión Lineal y Ridge sobresalen como aquellos con mayor capacidad de predicción de ArrDelay </font> "
   ]
  },
  {
   "cell_type": "markdown",
   "metadata": {},
   "source": [
    "# EJERCICIO 3"
   ]
  },
  {
   "cell_type": "markdown",
   "metadata": {},
   "source": [
    "## Cambio de parámetros en modelos"
   ]
  },
  {
   "cell_type": "markdown",
   "metadata": {},
   "source": [
    "### Decision Tree Regressor"
   ]
  },
  {
   "cell_type": "code",
   "execution_count": 26,
   "metadata": {
    "scrolled": true
   },
   "outputs": [
    {
     "name": "stdout",
     "output_type": "stream",
     "text": [
      "DecisionTreeRegressor\n",
      "    MAE 0.2022\n",
      "    RMSE 0.3113\n",
      "    R2 0.9035\n",
      "DecisionTreeRegressor\n",
      "    MAE 0.1876\n",
      "    RMSE 0.294\n",
      "    R2 0.9139\n",
      "DecisionTreeRegressor\n",
      "    MAE 0.1849\n",
      "    RMSE 0.2951\n",
      "    R2 0.9133\n",
      "DecisionTreeRegressor\n",
      "    MAE 0.1887\n",
      "    RMSE 0.3053\n",
      "    R2 0.9071\n"
     ]
    }
   ],
   "source": [
    "# Build some models and check them against training data using MAE, RMSE and R2\n",
    "models = [DecisionTreeRegressor(random_state=32, max_depth=5), DecisionTreeRegressor(random_state=32, max_depth=8), DecisionTreeRegressor(random_state=32, max_depth=10), DecisionTreeRegressor(random_state=32, max_depth=12)]\n",
    "for model in models:\n",
    "    model.fit(X_train, y_train)\n",
    "    predictions = model.predict(X_test)\n",
    "    print(type(model).__name__)\n",
    "    print(\"    MAE\", round(mean_absolute_error(y_test, predictions), 4))\n",
    "    print(\"    RMSE\", round(sqrt(mean_squared_error(y_test, predictions)), 4))\n",
    "    print(\"    R2\", round(r2_score(y_test, predictions), 4))\n"
   ]
  },
  {
   "cell_type": "markdown",
   "metadata": {},
   "source": [
    "\n",
    "### <font color='red'> --> Mientras más alto el max_depth, mejor la performance. Desde Max_depth = 8, la calidad empieza a empeorar. </font> "
   ]
  },
  {
   "cell_type": "markdown",
   "metadata": {},
   "source": [
    "### Ridge"
   ]
  },
  {
   "cell_type": "code",
   "execution_count": 27,
   "metadata": {},
   "outputs": [
    {
     "name": "stdout",
     "output_type": "stream",
     "text": [
      "Ridge\n",
      "    MAE 0.179\n",
      "    RMSE 0.2836\n",
      "    R2 0.9199\n",
      "Ridge\n",
      "    MAE 0.1789\n",
      "    RMSE 0.2837\n",
      "    R2 0.9199\n",
      "Ridge\n",
      "    MAE 0.1801\n",
      "    RMSE 0.2859\n",
      "    R2 0.9186\n",
      "Ridge\n",
      "    MAE 0.1986\n",
      "    RMSE 0.3073\n",
      "    R2 0.906\n",
      "Ridge\n",
      "    MAE 0.3549\n",
      "    RMSE 0.5263\n",
      "    R2 0.7241\n"
     ]
    }
   ],
   "source": [
    "# Build some models and check them against training data using MAE, RMSE and R2\n",
    "models = [Ridge(alpha=1), Ridge(alpha=100), Ridge(alpha=1000), Ridge(alpha=10000), Ridge(alpha=100000)]\n",
    "for model in models:\n",
    "    model.fit(X_train, y_train)\n",
    "    predictions = model.predict(X_test)\n",
    "    print(type(model).__name__)\n",
    "    print(\"    MAE\", round(mean_absolute_error(y_test, predictions), 4))\n",
    "    print(\"    RMSE\", round(sqrt(mean_squared_error(y_test, predictions)), 4))\n",
    "    print(\"    R2\", round(r2_score(y_test, predictions), 4))\n"
   ]
  },
  {
   "cell_type": "markdown",
   "metadata": {},
   "source": [
    "\n",
    "### <font color='red'> --> Mientras más alto sea Alpha, peor el modelo.  </font> "
   ]
  },
  {
   "cell_type": "markdown",
   "metadata": {},
   "source": [
    "### Lasso"
   ]
  },
  {
   "cell_type": "code",
   "execution_count": 28,
   "metadata": {},
   "outputs": [
    {
     "name": "stdout",
     "output_type": "stream",
     "text": [
      "Lasso\n",
      "    MAE 0.179\n",
      "    RMSE 0.2836\n",
      "    R2 0.9199\n",
      "Lasso\n",
      "    MAE 0.1789\n",
      "    RMSE 0.2838\n",
      "    R2 0.9198\n",
      "Lasso\n",
      "    MAE 0.1934\n",
      "    RMSE 0.3018\n",
      "    R2 0.9093\n",
      "Lasso\n",
      "    MAE 0.2146\n",
      "    RMSE 0.3262\n",
      "    R2 0.894\n",
      "Lasso\n",
      "    MAE 0.3981\n",
      "    RMSE 0.5925\n",
      "    R2 0.6504\n"
     ]
    }
   ],
   "source": [
    "# Build some models and check them against training data using MAE, RMSE and R2\n",
    "models = [Lasso(alpha=0.00001), Lasso(alpha=0.001), Lasso(alpha=0.01), Lasso(alpha=0.1), Lasso(alpha=0.5)]\n",
    "for model in models:\n",
    "    model.fit(X_train, y_train)\n",
    "    predictions = model.predict(X_test)\n",
    "    print(type(model).__name__)\n",
    "    print(\"    MAE\", round(mean_absolute_error(y_test, predictions), 4))\n",
    "    print(\"    RMSE\", round(sqrt(mean_squared_error(y_test, predictions)), 4))\n",
    "    print(\"    R2\", round(r2_score(y_test, predictions), 4))\n"
   ]
  },
  {
   "cell_type": "markdown",
   "metadata": {},
   "source": [
    "\n",
    "### <font color='red'> --> Mientras más alto sea Alpha, peor el modelo.  </font> "
   ]
  },
  {
   "cell_type": "markdown",
   "metadata": {},
   "source": [
    "### Elastic Net"
   ]
  },
  {
   "cell_type": "code",
   "execution_count": 29,
   "metadata": {},
   "outputs": [
    {
     "name": "stdout",
     "output_type": "stream",
     "text": [
      "ElasticNet\n",
      "    MAE 0.1807\n",
      "    RMSE 0.2868\n",
      "    R2 0.9181\n",
      "ElasticNet\n",
      "    MAE 0.1934\n",
      "    RMSE 0.3018\n",
      "    R2 0.9093\n",
      "ElasticNet\n",
      "    MAE 0.6568\n",
      "    RMSE 1.002\n",
      "    R2 -0.0\n",
      "ElasticNet\n",
      "    MAE 0.1845\n",
      "    RMSE 0.2912\n",
      "    R2 0.9155\n",
      "ElasticNet\n",
      "    MAE 0.1845\n",
      "    RMSE 0.2912\n",
      "    R2 0.9155\n"
     ]
    }
   ],
   "source": [
    "# Build some models and check them against training data using MAE, RMSE and R2\n",
    "models = [ElasticNet(alpha=0.01, l1_ratio=0.01), ElasticNet(alpha=0.01, l1_ratio=1), ElasticNet(alpha=1, l1_ratio=1), ElasticNet(alpha=0.01, l1_ratio=0.5), ElasticNet(alpha=0.01, l1_ratio=0.5)]\n",
    "for model in models:\n",
    "    model.fit(X_train, y_train)\n",
    "    predictions = model.predict(X_test)\n",
    "    print(type(model).__name__)\n",
    "    print(\"    MAE\", round(mean_absolute_error(y_test, predictions), 4))\n",
    "    print(\"    RMSE\", round(sqrt(mean_squared_error(y_test, predictions)), 4))\n",
    "    print(\"    R2\", round(r2_score(y_test, predictions), 4))\n"
   ]
  },
  {
   "cell_type": "markdown",
   "metadata": {},
   "source": [
    "\n",
    "### <font color='red'> --> Mientras más alto sea Alpha, peor el modelo.  </font> "
   ]
  },
  {
   "cell_type": "markdown",
   "metadata": {},
   "source": [
    "# EJERCICIO 4:"
   ]
  },
  {
   "cell_type": "markdown",
   "metadata": {},
   "source": [
    "\n",
    "Compara su rendimiento utilizando la aproximación traicionando / test o utilizando todos los datos (validación interna)"
   ]
  },
  {
   "cell_type": "markdown",
   "metadata": {},
   "source": [
    "### Defining X and y for the whole dataset"
   ]
  },
  {
   "cell_type": "code",
   "execution_count": 30,
   "metadata": {},
   "outputs": [],
   "source": [
    "X = reduced_sample_train.drop(columns = columns_to_drop, axis=1).values\n",
    "y = reduced_sample_train['ArrDelay'].values"
   ]
  },
  {
   "cell_type": "markdown",
   "metadata": {},
   "source": [
    "### Implementación de Cross Validation en Modelo de Regresión Lineal"
   ]
  },
  {
   "cell_type": "code",
   "execution_count": 31,
   "metadata": {},
   "outputs": [
    {
     "name": "stdout",
     "output_type": "stream",
     "text": [
      "Precisión Modelo de Regresión Lineal:  0.9198736967728443\n",
      "Precisión - Cross-Predicted(KFold) Regresión Lineal:  0.920974508594885\n"
     ]
    }
   ],
   "source": [
    "lin_reg = LinearRegression()\n",
    "lin_reg.fit(X_train,y_train)\n",
    "\n",
    "#Predicting the SalePrices using test set \n",
    "y_pred_lr = lin_reg.predict(X_test)\n",
    "\n",
    "#Mutiple Linear Regression Accuracy with test set\n",
    "accuracy_lf = metrics.r2_score(y_test, y_pred_lr)\n",
    "print('Precisión Modelo de Regresión Lineal: ', accuracy_lf)\n",
    "\n",
    "#Predicting the SalePrice using cross validation (KFold method)\n",
    "y_pred_kf_lr = cross_val_predict(lin_reg, X, y, cv=10 )\n",
    "\n",
    "#Mutiple Linear Regression Accuracy with cross validation (KFold method)\n",
    "accuracy_lf = metrics.r2_score(y, y_pred_kf_lr)\n",
    "print('Precisión - Cross-Predicted(KFold) Regresión Lineal: ', accuracy_lf)"
   ]
  },
  {
   "cell_type": "markdown",
   "metadata": {},
   "source": [
    "### Implementación de Cross Validation en DecisionTreeRegressor"
   ]
  },
  {
   "cell_type": "code",
   "execution_count": 32,
   "metadata": {},
   "outputs": [
    {
     "name": "stdout",
     "output_type": "stream",
     "text": [
      "Precisión Modelo de Regresión de Arbol:  0.8420387323825986\n",
      "Precisión - Cross-Predicted(KFold) Regresión de Arbol:  0.8407044871322573\n"
     ]
    }
   ],
   "source": [
    "dt_reg = DecisionTreeRegressor(random_state=32)\n",
    "dt_reg.fit(X_train,y_train)\n",
    "\n",
    "#Predicting the SalePrices using test set \n",
    "y_pred_dt = dt_reg.predict(X_test)\n",
    "\n",
    "#Mutiple Linear Regression Accuracy with test set\n",
    "accuracy_lf = metrics.r2_score(y_test, y_pred_dt)\n",
    "print('Precisión Modelo de Regresión de Arbol: ', accuracy_lf)\n",
    "\n",
    "#Predicting the SalePrice using cross validation (KFold method)\n",
    "y_pred_kf_dt = cross_val_predict(dt_reg, X, y, cv=10 )\n",
    "\n",
    "#Mutiple Linear Regression Accuracy with cross validation (KFold method)\n",
    "accuracy_lf = metrics.r2_score(y, y_pred_kf_dt)\n",
    "print('Precisión - Cross-Predicted(KFold) Regresión de Arbol: ', accuracy_lf)"
   ]
  },
  {
   "cell_type": "markdown",
   "metadata": {},
   "source": [
    "### Implementación de Cross Validation en Ridge"
   ]
  },
  {
   "cell_type": "code",
   "execution_count": 33,
   "metadata": {},
   "outputs": [
    {
     "name": "stdout",
     "output_type": "stream",
     "text": [
      "Precisión Modelo de Regresión de Arbol:  0.8420387323825986\n",
      "Precisión - Cross-Predicted(KFold) Regresión de Arbol:  0.9209744276738112\n"
     ]
    }
   ],
   "source": [
    "\n",
    "ridge_reg = Ridge(alpha=0.01)\n",
    "ridge_reg.fit(X_train,y_train)\n",
    "\n",
    "#Predicting the SalePrices using test set \n",
    "y_pred_ridge = dt_reg.predict(X_test)\n",
    "\n",
    "#Mutiple Linear Regression Accuracy with test set\n",
    "accuracy_lf = metrics.r2_score(y_test, y_pred_ridge)\n",
    "print('Precisión Modelo de Regresión de Arbol: ', accuracy_lf)\n",
    "\n",
    "#Predicting the SalePrice using cross validation (KFold method)\n",
    "y_pred_kf_ridge = cross_val_predict(ridge_reg, X, y, cv=10 )\n",
    "\n",
    "#Mutiple Linear Regression Accuracy with cross validation (KFold method)\n",
    "accuracy_lf = metrics.r2_score(y, y_pred_kf_ridge)\n",
    "print('Precisión - Cross-Predicted(KFold) Regresión de Arbol: ', accuracy_lf)"
   ]
  },
  {
   "cell_type": "markdown",
   "metadata": {},
   "source": [
    "### Implementación de Cross Validation en Lasso"
   ]
  },
  {
   "cell_type": "code",
   "execution_count": 34,
   "metadata": {},
   "outputs": [
    {
     "name": "stdout",
     "output_type": "stream",
     "text": [
      "Precisión Modelo de Regresión de Arbol:  0.8420387323825986\n",
      "Precisión - Cross-Predicted(KFold) Regresión de Arbol:  0.8905795808169162\n"
     ]
    }
   ],
   "source": [
    "\n",
    "lasso_reg = Lasso(alpha=0.01)\n",
    "lasso_reg.fit(X_train,y_train)\n",
    "\n",
    "#Predicting the SalePrices using test set \n",
    "y_pred_lasso = dt_reg.predict(X_test)\n",
    "\n",
    "#Mutiple Linear Regression Accuracy with test set\n",
    "accuracy_lf = metrics.r2_score(y_test, y_pred_lasso)\n",
    "print('Precisión Modelo de Regresión de Arbol: ', accuracy_lf)\n",
    "\n",
    "#Predicting the SalePrice using cross validation (KFold method)\n",
    "y_pred_kf_lasso = cross_val_predict(lasso_reg, X, y, cv=10 )\n",
    "\n",
    "#Mutiple Linear Regression Accuracy with cross validation (KFold method)\n",
    "accuracy_lf = metrics.r2_score(y, y_pred_kf_lasso)\n",
    "print('Precisión - Cross-Predicted(KFold) Regresión de Arbol: ', accuracy_lf)"
   ]
  },
  {
   "cell_type": "markdown",
   "metadata": {},
   "source": [
    "### Implementación de Cross Validation en Elastic Net"
   ]
  },
  {
   "cell_type": "code",
   "execution_count": 35,
   "metadata": {},
   "outputs": [
    {
     "name": "stdout",
     "output_type": "stream",
     "text": [
      "Precisión Modelo de Regresión de Arbol:  0.8420387323825986\n",
      "Precisión - Cross-Predicted(KFold) Regresión de Arbol:  0.8987857988498924\n"
     ]
    }
   ],
   "source": [
    "\n",
    "dt_en = ElasticNet(alpha = 0.01)\n",
    "dt_en.fit(X_train,y_train)\n",
    "\n",
    "#Predicting the SalePrices using test set \n",
    "y_pred_en = dt_reg.predict(X_test)\n",
    "\n",
    "#Mutiple Linear Regression Accuracy with test set\n",
    "accuracy_lf = metrics.r2_score(y_test, y_pred_en)\n",
    "print('Precisión Modelo de Regresión de Arbol: ', accuracy_lf)\n",
    "\n",
    "#Predicting the SalePrice using cross validation (KFold method)\n",
    "y_pred_kf_en = cross_val_predict(dt_en, X, y, cv=10 )\n",
    "\n",
    "#Mutiple Linear Regression Accuracy with cross validation (KFold method)\n",
    "accuracy_lf = metrics.r2_score(y, y_pred_kf_en)\n",
    "print('Precisión - Cross-Predicted(KFold) Regresión de Arbol: ', accuracy_lf)"
   ]
  },
  {
   "cell_type": "markdown",
   "metadata": {},
   "source": [
    "## ---> En cada caso la calidad del modelo mediante el método Cross Validation es superior que mediante la implementación regular del mismo"
   ]
  },
  {
   "cell_type": "markdown",
   "metadata": {},
   "source": [
    "# EJERCICIO 5: Feature Engeneering"
   ]
  },
  {
   "cell_type": "markdown",
   "metadata": {},
   "source": [
    "### A) Inclusión de variable \"ArrDelay_vs_CRSElapsedTime\" (creada en Tasca anterior). Esta variable expresa la cantidad de minutos demorados respecto a la duración estimada de viaje"
   ]
  },
  {
   "cell_type": "code",
   "execution_count": 36,
   "metadata": {},
   "outputs": [],
   "source": [
    "columns_to_drop_a = ['FullCarrier', 'Origin', 'Dest', 'Delay_level', 'ArrTime_Range', 'DepTime_Range', 'Unnamed: 0', 'index', 'Cancelled', 'ArrDelay', 'CRSElapsedTime', 'ArrTime', 'DepTime', '10%_Delayed']"
   ]
  },
  {
   "cell_type": "code",
   "execution_count": 37,
   "metadata": {},
   "outputs": [],
   "source": [
    "X_train_a = train.drop(columns = columns_to_drop_a, axis=1).values\n",
    "y_train_a = train['ArrDelay'].values"
   ]
  },
  {
   "cell_type": "code",
   "execution_count": 38,
   "metadata": {},
   "outputs": [
    {
     "data": {
      "text/plain": [
       "array([[ 7.        ,  0.95605656, -0.90784465, -0.76883296,  0.25193994,\n",
       "         1.48735561],\n",
       "       [ 7.        , -0.28318229,  1.73029353,  1.69227782,  0.60878355,\n",
       "        -0.42456627],\n",
       "       [ 5.        , -0.69626191, -0.51431022, -0.44812164,  0.20191882,\n",
       "        -0.53880558],\n",
       "       ...,\n",
       "       [ 4.        ,  0.58052964,  0.05412839, -0.27556501, -0.7074219 ,\n",
       "         0.45602846],\n",
       "       [ 1.        , -0.65870921, -0.8932693 , -0.80543589, -0.10057114,\n",
       "        -0.65939153],\n",
       "       [ 1.        , -0.67748556,  0.18530653,  0.11835216,  0.15790416,\n",
       "        -0.70064461]])"
      ]
     },
     "execution_count": 38,
     "metadata": {},
     "output_type": "execute_result"
    }
   ],
   "source": [
    "X_train_a"
   ]
  },
  {
   "cell_type": "code",
   "execution_count": 39,
   "metadata": {},
   "outputs": [],
   "source": [
    "X_test_a = test.drop(columns = columns_to_drop_a, axis=1).values\n",
    "y_test_a = test['ArrDelay'].values"
   ]
  },
  {
   "cell_type": "code",
   "execution_count": 40,
   "metadata": {},
   "outputs": [
    {
     "data": {
      "text/plain": [
       "array([[ 4.        , -0.2456296 ,  3.17325308,  2.86008535,  0.4509413 ,\n",
       "        -0.6308317 ],\n",
       "       [ 7.        ,  5.38727426, -0.8641186 , -0.71480008,  0.37088781,\n",
       "         5.71103698],\n",
       "       [ 7.        , -0.65870921, -0.13535115, -0.23896209, -0.16162054,\n",
       "         0.63849403],\n",
       "       ...,\n",
       "       [ 1.        , -0.4897221 ,  0.37478607,  0.42511951,  0.53926601,\n",
       "        -0.53880558],\n",
       "       [ 2.        , -0.4897221 ,  1.4533619 ,  1.4691743 ,  0.65801694,\n",
       "        -0.44360615],\n",
       "       [ 7.        ,  0.31766079,  0.53511491,  0.35191366,  0.03068508,\n",
       "        -0.03107529]])"
      ]
     },
     "execution_count": 40,
     "metadata": {},
     "output_type": "execute_result"
    }
   ],
   "source": [
    "X_test_a"
   ]
  },
  {
   "cell_type": "code",
   "execution_count": 41,
   "metadata": {},
   "outputs": [
    {
     "data": {
      "text/html": [
       "<div>\n",
       "<style scoped>\n",
       "    .dataframe tbody tr th:only-of-type {\n",
       "        vertical-align: middle;\n",
       "    }\n",
       "\n",
       "    .dataframe tbody tr th {\n",
       "        vertical-align: top;\n",
       "    }\n",
       "\n",
       "    .dataframe thead th {\n",
       "        text-align: right;\n",
       "    }\n",
       "</style>\n",
       "<table border=\"1\" class=\"dataframe\">\n",
       "  <thead>\n",
       "    <tr style=\"text-align: right;\">\n",
       "      <th></th>\n",
       "      <th>DayOfWeek</th>\n",
       "      <th>DepDelay</th>\n",
       "      <th>AirTime</th>\n",
       "      <th>Distance</th>\n",
       "      <th>AvgSpeed</th>\n",
       "      <th>ArrDelay_vs_CRSElapsedTime</th>\n",
       "    </tr>\n",
       "  </thead>\n",
       "  <tbody>\n",
       "    <tr>\n",
       "      <td>747974</td>\n",
       "      <td>7</td>\n",
       "      <td>0.956057</td>\n",
       "      <td>-0.907845</td>\n",
       "      <td>-0.768833</td>\n",
       "      <td>0.251940</td>\n",
       "      <td>1.487356</td>\n",
       "    </tr>\n",
       "    <tr>\n",
       "      <td>896507</td>\n",
       "      <td>7</td>\n",
       "      <td>-0.283182</td>\n",
       "      <td>1.730294</td>\n",
       "      <td>1.692278</td>\n",
       "      <td>0.608784</td>\n",
       "      <td>-0.424566</td>\n",
       "    </tr>\n",
       "    <tr>\n",
       "      <td>1525158</td>\n",
       "      <td>5</td>\n",
       "      <td>-0.696262</td>\n",
       "      <td>-0.514310</td>\n",
       "      <td>-0.448122</td>\n",
       "      <td>0.201919</td>\n",
       "      <td>-0.538806</td>\n",
       "    </tr>\n",
       "    <tr>\n",
       "      <td>432233</td>\n",
       "      <td>6</td>\n",
       "      <td>-0.639933</td>\n",
       "      <td>-0.718365</td>\n",
       "      <td>-0.676454</td>\n",
       "      <td>-0.134247</td>\n",
       "      <td>-0.508659</td>\n",
       "    </tr>\n",
       "    <tr>\n",
       "      <td>1161614</td>\n",
       "      <td>6</td>\n",
       "      <td>1.312807</td>\n",
       "      <td>-0.645488</td>\n",
       "      <td>-0.416748</td>\n",
       "      <td>0.946229</td>\n",
       "      <td>1.001839</td>\n",
       "    </tr>\n",
       "  </tbody>\n",
       "</table>\n",
       "</div>"
      ],
      "text/plain": [
       "         DayOfWeek  DepDelay   AirTime  Distance  AvgSpeed  \\\n",
       "747974           7  0.956057 -0.907845 -0.768833  0.251940   \n",
       "896507           7 -0.283182  1.730294  1.692278  0.608784   \n",
       "1525158          5 -0.696262 -0.514310 -0.448122  0.201919   \n",
       "432233           6 -0.639933 -0.718365 -0.676454 -0.134247   \n",
       "1161614          6  1.312807 -0.645488 -0.416748  0.946229   \n",
       "\n",
       "         ArrDelay_vs_CRSElapsedTime  \n",
       "747974                     1.487356  \n",
       "896507                    -0.424566  \n",
       "1525158                   -0.538806  \n",
       "432233                    -0.508659  \n",
       "1161614                    1.001839  "
      ]
     },
     "execution_count": 41,
     "metadata": {},
     "output_type": "execute_result"
    }
   ],
   "source": [
    "train.drop(columns=columns_to_drop_a, axis=1).head()"
   ]
  },
  {
   "cell_type": "code",
   "execution_count": 42,
   "metadata": {},
   "outputs": [
    {
     "data": {
      "text/plain": [
       "array([ 0.78937331, -0.17933952, -0.63727649, ...,  0.77176035,\n",
       "       -0.76056722, -0.84863202])"
      ]
     },
     "execution_count": 42,
     "metadata": {},
     "output_type": "execute_result"
    }
   ],
   "source": [
    "y_train_a"
   ]
  },
  {
   "cell_type": "markdown",
   "metadata": {},
   "source": [
    "### Evaluación del nuevo modelo"
   ]
  },
  {
   "cell_type": "code",
   "execution_count": 43,
   "metadata": {},
   "outputs": [
    {
     "name": "stdout",
     "output_type": "stream",
     "text": [
      "LinearRegression\n",
      "    MAE 0.1525\n",
      "    RMSE 0.2466\n",
      "    R2 0.9394\n",
      "DecisionTreeRegressor\n",
      "    MAE 0.0542\n",
      "    RMSE 0.1289\n",
      "    R2 0.9835\n",
      "Ridge\n",
      "    MAE 0.1525\n",
      "    RMSE 0.2466\n",
      "    R2 0.9394\n",
      "Lasso\n",
      "    MAE 0.1667\n",
      "    RMSE 0.265\n",
      "    R2 0.9301\n",
      "ElasticNet\n",
      "    MAE 0.1583\n",
      "    RMSE 0.2549\n",
      "    R2 0.9353\n"
     ]
    }
   ],
   "source": [
    "# Build some models and check them against training data using MAE, RMSE and R2\n",
    "models = [LinearRegression(), DecisionTreeRegressor(random_state=32), Ridge(alpha=0.01), Lasso(alpha=0.01), ElasticNet(alpha = 0.01)]\n",
    "for model in models:\n",
    "    model.fit(X_train_a, y_train_a)\n",
    "    predictions_a = model.predict(X_test_a)\n",
    "    print(type(model).__name__)\n",
    "    print(\"    MAE\", round(mean_absolute_error(y_test_a, predictions_a), 4))\n",
    "    print(\"    RMSE\", round(sqrt(mean_squared_error(y_test_a, predictions_a)), 4))\n",
    "    print(\"    R2\", round(r2_score(y_test_a, predictions_a), 4))"
   ]
  },
  {
   "cell_type": "markdown",
   "metadata": {},
   "source": [
    "## B) Inclusión de variables categóricas ArrTime, DepTime y ArrDelay "
   ]
  },
  {
   "cell_type": "markdown",
   "metadata": {},
   "source": [
    "### Transformación de Rangos a variables Ordinales"
   ]
  },
  {
   "cell_type": "code",
   "execution_count": 44,
   "metadata": {},
   "outputs": [],
   "source": [
    "le = preprocessing.LabelEncoder()"
   ]
  },
  {
   "cell_type": "code",
   "execution_count": 45,
   "metadata": {},
   "outputs": [],
   "source": [
    "columns_to_encode = ['ArrTime_Range', 'DepTime_Range', 'Delay_level']"
   ]
  },
  {
   "cell_type": "code",
   "execution_count": 46,
   "metadata": {},
   "outputs": [
    {
     "name": "stderr",
     "output_type": "stream",
     "text": [
      "C:\\Users\\tomi_\\Anaconda3\\lib\\site-packages\\pandas\\core\\frame.py:3494: SettingWithCopyWarning: \n",
      "A value is trying to be set on a copy of a slice from a DataFrame.\n",
      "Try using .loc[row_indexer,col_indexer] = value instead\n",
      "\n",
      "See the caveats in the documentation: http://pandas.pydata.org/pandas-docs/stable/user_guide/indexing.html#returning-a-view-versus-a-copy\n",
      "  self[k1] = value[k2]\n"
     ]
    }
   ],
   "source": [
    "train[columns_to_encode] = train[columns_to_encode].apply(le.fit_transform)"
   ]
  },
  {
   "cell_type": "code",
   "execution_count": 47,
   "metadata": {},
   "outputs": [],
   "source": [
    "test[columns_to_encode] = test[columns_to_encode].apply(le.fit_transform)"
   ]
  },
  {
   "cell_type": "markdown",
   "metadata": {},
   "source": [
    "### Definiciòn de variables de nuevo modelo incluyendo ArrTime_Rabge, DepTime_Range, Delay_level"
   ]
  },
  {
   "cell_type": "code",
   "execution_count": 48,
   "metadata": {},
   "outputs": [],
   "source": [
    "columns_to_drop_b = ['FullCarrier', 'Origin', 'Dest', 'Unnamed: 0', 'index', 'Cancelled', 'ArrDelay', 'CRSElapsedTime', 'ArrTime', 'DepTime', '10%_Delayed']"
   ]
  },
  {
   "cell_type": "code",
   "execution_count": 49,
   "metadata": {},
   "outputs": [
    {
     "data": {
      "text/html": [
       "<div>\n",
       "<style scoped>\n",
       "    .dataframe tbody tr th:only-of-type {\n",
       "        vertical-align: middle;\n",
       "    }\n",
       "\n",
       "    .dataframe tbody tr th {\n",
       "        vertical-align: top;\n",
       "    }\n",
       "\n",
       "    .dataframe thead th {\n",
       "        text-align: right;\n",
       "    }\n",
       "</style>\n",
       "<table border=\"1\" class=\"dataframe\">\n",
       "  <thead>\n",
       "    <tr style=\"text-align: right;\">\n",
       "      <th></th>\n",
       "      <th>DayOfWeek</th>\n",
       "      <th>DepDelay</th>\n",
       "      <th>AirTime</th>\n",
       "      <th>Distance</th>\n",
       "      <th>AvgSpeed</th>\n",
       "      <th>ArrDelay_vs_CRSElapsedTime</th>\n",
       "      <th>Delay_level</th>\n",
       "      <th>ArrTime_Range</th>\n",
       "      <th>DepTime_Range</th>\n",
       "    </tr>\n",
       "  </thead>\n",
       "  <tbody>\n",
       "    <tr>\n",
       "      <td>747974</td>\n",
       "      <td>7</td>\n",
       "      <td>0.956057</td>\n",
       "      <td>-0.907845</td>\n",
       "      <td>-0.768833</td>\n",
       "      <td>0.251940</td>\n",
       "      <td>1.487356</td>\n",
       "      <td>2</td>\n",
       "      <td>16</td>\n",
       "      <td>15</td>\n",
       "    </tr>\n",
       "    <tr>\n",
       "      <td>896507</td>\n",
       "      <td>7</td>\n",
       "      <td>-0.283182</td>\n",
       "      <td>1.730294</td>\n",
       "      <td>1.692278</td>\n",
       "      <td>0.608784</td>\n",
       "      <td>-0.424566</td>\n",
       "      <td>0</td>\n",
       "      <td>8</td>\n",
       "      <td>5</td>\n",
       "    </tr>\n",
       "    <tr>\n",
       "      <td>1525158</td>\n",
       "      <td>5</td>\n",
       "      <td>-0.696262</td>\n",
       "      <td>-0.514310</td>\n",
       "      <td>-0.448122</td>\n",
       "      <td>0.201919</td>\n",
       "      <td>-0.538806</td>\n",
       "      <td>3</td>\n",
       "      <td>13</td>\n",
       "      <td>11</td>\n",
       "    </tr>\n",
       "    <tr>\n",
       "      <td>432233</td>\n",
       "      <td>6</td>\n",
       "      <td>-0.639933</td>\n",
       "      <td>-0.718365</td>\n",
       "      <td>-0.676454</td>\n",
       "      <td>-0.134247</td>\n",
       "      <td>-0.508659</td>\n",
       "      <td>3</td>\n",
       "      <td>6</td>\n",
       "      <td>4</td>\n",
       "    </tr>\n",
       "    <tr>\n",
       "      <td>1161614</td>\n",
       "      <td>6</td>\n",
       "      <td>1.312807</td>\n",
       "      <td>-0.645488</td>\n",
       "      <td>-0.416748</td>\n",
       "      <td>0.946229</td>\n",
       "      <td>1.001839</td>\n",
       "      <td>2</td>\n",
       "      <td>0</td>\n",
       "      <td>0</td>\n",
       "    </tr>\n",
       "  </tbody>\n",
       "</table>\n",
       "</div>"
      ],
      "text/plain": [
       "         DayOfWeek  DepDelay   AirTime  Distance  AvgSpeed  \\\n",
       "747974           7  0.956057 -0.907845 -0.768833  0.251940   \n",
       "896507           7 -0.283182  1.730294  1.692278  0.608784   \n",
       "1525158          5 -0.696262 -0.514310 -0.448122  0.201919   \n",
       "432233           6 -0.639933 -0.718365 -0.676454 -0.134247   \n",
       "1161614          6  1.312807 -0.645488 -0.416748  0.946229   \n",
       "\n",
       "         ArrDelay_vs_CRSElapsedTime  Delay_level  ArrTime_Range  DepTime_Range  \n",
       "747974                     1.487356            2             16             15  \n",
       "896507                    -0.424566            0              8              5  \n",
       "1525158                   -0.538806            3             13             11  \n",
       "432233                    -0.508659            3              6              4  \n",
       "1161614                    1.001839            2              0              0  "
      ]
     },
     "execution_count": 49,
     "metadata": {},
     "output_type": "execute_result"
    }
   ],
   "source": [
    "train.drop(columns = columns_to_drop_b, axis=1).head()"
   ]
  },
  {
   "cell_type": "code",
   "execution_count": 50,
   "metadata": {},
   "outputs": [],
   "source": [
    "X_train_b = train.drop(columns = columns_to_drop_b, axis=1).values\n",
    "y_train_b = train['ArrDelay'].values"
   ]
  },
  {
   "cell_type": "code",
   "execution_count": 51,
   "metadata": {},
   "outputs": [
    {
     "data": {
      "text/plain": [
       "array([[ 7.        ,  0.95605656, -0.90784465, ...,  2.        ,\n",
       "        16.        , 15.        ],\n",
       "       [ 7.        , -0.28318229,  1.73029353, ...,  0.        ,\n",
       "         8.        ,  5.        ],\n",
       "       [ 5.        , -0.69626191, -0.51431022, ...,  3.        ,\n",
       "        13.        , 11.        ],\n",
       "       ...,\n",
       "       [ 4.        ,  0.58052964,  0.05412839, ...,  2.        ,\n",
       "        15.        , 14.        ],\n",
       "       [ 1.        , -0.65870921, -0.8932693 , ...,  3.        ,\n",
       "        10.        ,  9.        ],\n",
       "       [ 1.        , -0.67748556,  0.18530653, ...,  3.        ,\n",
       "        12.        , 12.        ]])"
      ]
     },
     "execution_count": 51,
     "metadata": {},
     "output_type": "execute_result"
    }
   ],
   "source": [
    "X_train_b"
   ]
  },
  {
   "cell_type": "code",
   "execution_count": 52,
   "metadata": {},
   "outputs": [],
   "source": [
    "X_test_b = test.drop(columns = columns_to_drop_b, axis=1).values\n",
    "y_test_b = test['ArrDelay'].values"
   ]
  },
  {
   "cell_type": "code",
   "execution_count": 53,
   "metadata": {},
   "outputs": [
    {
     "data": {
      "text/plain": [
       "array([[ 4.        , -0.2456296 ,  3.17325308, ...,  3.        ,\n",
       "        18.        , 16.        ],\n",
       "       [ 7.        ,  5.38727426, -0.8641186 , ...,  2.        ,\n",
       "        17.        , 16.        ],\n",
       "       [ 7.        , -0.65870921, -0.13535115, ...,  2.        ,\n",
       "        14.        , 10.        ],\n",
       "       ...,\n",
       "       [ 1.        , -0.4897221 ,  0.37478607, ...,  3.        ,\n",
       "         9.        ,  5.        ],\n",
       "       [ 2.        , -0.4897221 ,  1.4533619 , ...,  0.        ,\n",
       "         6.        ,  4.        ],\n",
       "       [ 7.        ,  0.31766079,  0.53511491, ...,  1.        ,\n",
       "        13.        , 12.        ]])"
      ]
     },
     "execution_count": 53,
     "metadata": {},
     "output_type": "execute_result"
    }
   ],
   "source": [
    "X_test_b"
   ]
  },
  {
   "cell_type": "code",
   "execution_count": 54,
   "metadata": {},
   "outputs": [
    {
     "data": {
      "text/html": [
       "<div>\n",
       "<style scoped>\n",
       "    .dataframe tbody tr th:only-of-type {\n",
       "        vertical-align: middle;\n",
       "    }\n",
       "\n",
       "    .dataframe tbody tr th {\n",
       "        vertical-align: top;\n",
       "    }\n",
       "\n",
       "    .dataframe thead th {\n",
       "        text-align: right;\n",
       "    }\n",
       "</style>\n",
       "<table border=\"1\" class=\"dataframe\">\n",
       "  <thead>\n",
       "    <tr style=\"text-align: right;\">\n",
       "      <th></th>\n",
       "      <th>DayOfWeek</th>\n",
       "      <th>DepDelay</th>\n",
       "      <th>AirTime</th>\n",
       "      <th>Distance</th>\n",
       "      <th>AvgSpeed</th>\n",
       "      <th>ArrDelay_vs_CRSElapsedTime</th>\n",
       "      <th>Delay_level</th>\n",
       "      <th>ArrTime_Range</th>\n",
       "      <th>DepTime_Range</th>\n",
       "    </tr>\n",
       "  </thead>\n",
       "  <tbody>\n",
       "    <tr>\n",
       "      <td>747974</td>\n",
       "      <td>7</td>\n",
       "      <td>0.956057</td>\n",
       "      <td>-0.907845</td>\n",
       "      <td>-0.768833</td>\n",
       "      <td>0.251940</td>\n",
       "      <td>1.487356</td>\n",
       "      <td>2</td>\n",
       "      <td>16</td>\n",
       "      <td>15</td>\n",
       "    </tr>\n",
       "    <tr>\n",
       "      <td>896507</td>\n",
       "      <td>7</td>\n",
       "      <td>-0.283182</td>\n",
       "      <td>1.730294</td>\n",
       "      <td>1.692278</td>\n",
       "      <td>0.608784</td>\n",
       "      <td>-0.424566</td>\n",
       "      <td>0</td>\n",
       "      <td>8</td>\n",
       "      <td>5</td>\n",
       "    </tr>\n",
       "    <tr>\n",
       "      <td>1525158</td>\n",
       "      <td>5</td>\n",
       "      <td>-0.696262</td>\n",
       "      <td>-0.514310</td>\n",
       "      <td>-0.448122</td>\n",
       "      <td>0.201919</td>\n",
       "      <td>-0.538806</td>\n",
       "      <td>3</td>\n",
       "      <td>13</td>\n",
       "      <td>11</td>\n",
       "    </tr>\n",
       "    <tr>\n",
       "      <td>432233</td>\n",
       "      <td>6</td>\n",
       "      <td>-0.639933</td>\n",
       "      <td>-0.718365</td>\n",
       "      <td>-0.676454</td>\n",
       "      <td>-0.134247</td>\n",
       "      <td>-0.508659</td>\n",
       "      <td>3</td>\n",
       "      <td>6</td>\n",
       "      <td>4</td>\n",
       "    </tr>\n",
       "    <tr>\n",
       "      <td>1161614</td>\n",
       "      <td>6</td>\n",
       "      <td>1.312807</td>\n",
       "      <td>-0.645488</td>\n",
       "      <td>-0.416748</td>\n",
       "      <td>0.946229</td>\n",
       "      <td>1.001839</td>\n",
       "      <td>2</td>\n",
       "      <td>0</td>\n",
       "      <td>0</td>\n",
       "    </tr>\n",
       "  </tbody>\n",
       "</table>\n",
       "</div>"
      ],
      "text/plain": [
       "         DayOfWeek  DepDelay   AirTime  Distance  AvgSpeed  \\\n",
       "747974           7  0.956057 -0.907845 -0.768833  0.251940   \n",
       "896507           7 -0.283182  1.730294  1.692278  0.608784   \n",
       "1525158          5 -0.696262 -0.514310 -0.448122  0.201919   \n",
       "432233           6 -0.639933 -0.718365 -0.676454 -0.134247   \n",
       "1161614          6  1.312807 -0.645488 -0.416748  0.946229   \n",
       "\n",
       "         ArrDelay_vs_CRSElapsedTime  Delay_level  ArrTime_Range  DepTime_Range  \n",
       "747974                     1.487356            2             16             15  \n",
       "896507                    -0.424566            0              8              5  \n",
       "1525158                   -0.538806            3             13             11  \n",
       "432233                    -0.508659            3              6              4  \n",
       "1161614                    1.001839            2              0              0  "
      ]
     },
     "execution_count": 54,
     "metadata": {},
     "output_type": "execute_result"
    }
   ],
   "source": [
    "train.drop(columns=columns_to_drop_b, axis=1).head()"
   ]
  },
  {
   "cell_type": "code",
   "execution_count": 55,
   "metadata": {},
   "outputs": [
    {
     "data": {
      "text/plain": [
       "array([ 0.78937331, -0.17933952, -0.63727649, ...,  0.77176035,\n",
       "       -0.76056722, -0.84863202])"
      ]
     },
     "execution_count": 55,
     "metadata": {},
     "output_type": "execute_result"
    }
   ],
   "source": [
    "y_train_b"
   ]
  },
  {
   "cell_type": "markdown",
   "metadata": {},
   "source": [
    "### Evaluación del nuevo modelo"
   ]
  },
  {
   "cell_type": "code",
   "execution_count": 56,
   "metadata": {},
   "outputs": [
    {
     "name": "stdout",
     "output_type": "stream",
     "text": [
      "LinearRegression\n",
      "    MAE 0.1482\n",
      "    RMSE 0.2425\n",
      "    R2 0.9414\n",
      "DecisionTreeRegressor\n",
      "    MAE 0.0554\n",
      "    RMSE 0.1319\n",
      "    R2 0.9827\n",
      "Ridge\n",
      "    MAE 0.1482\n",
      "    RMSE 0.2425\n",
      "    R2 0.9414\n",
      "Lasso\n",
      "    MAE 0.1601\n",
      "    RMSE 0.2594\n",
      "    R2 0.933\n",
      "ElasticNet\n",
      "    MAE 0.1531\n",
      "    RMSE 0.2508\n",
      "    R2 0.9374\n"
     ]
    }
   ],
   "source": [
    "# Build some models and check them against training data using MAE, RMSE and R2\n",
    "models = [LinearRegression(), DecisionTreeRegressor(random_state=32), Ridge(alpha=0.01), Lasso(alpha=0.01), ElasticNet(alpha = 0.01)]\n",
    "for model in models:\n",
    "    model.fit(X_train_b, y_train_b)\n",
    "    predictions_b = model.predict(X_test_b)\n",
    "    print(type(model).__name__)\n",
    "    print(\"    MAE\", round(mean_absolute_error(y_test_b, predictions_b), 4))\n",
    "    print(\"    RMSE\", round(sqrt(mean_squared_error(y_test_b, predictions_b)), 4))\n",
    "    print(\"    R2\", round(r2_score(y_test_b, predictions_b), 4))"
   ]
  },
  {
   "cell_type": "markdown",
   "metadata": {},
   "source": [
    "## C) Inclusión de variables FullCarrier, Origin & Dest"
   ]
  },
  {
   "cell_type": "markdown",
   "metadata": {},
   "source": [
    "### Conversión de variables Dummy"
   ]
  },
  {
   "cell_type": "markdown",
   "metadata": {},
   "source": [
    "En caso de efectuar el Train Test Split antes de la conversión de variables Dummy, está sucediendo que algunas de los valores de las variables categóricas no son incluidos en el TEST set, de manera que al realizar la conversión a Dummies, la cantidad de variables totales entre TRAIN y TEST set termina por ser diferente e imposibilita la evaluación del modelo."
   ]
  },
  {
   "cell_type": "markdown",
   "metadata": {},
   "source": [
    "\n",
    "--> Realizo conversión a Dummy y luego divido por TRAIN y TEST"
   ]
  },
  {
   "cell_type": "markdown",
   "metadata": {},
   "source": [
    "### Inclusión de DUMMY variables en DATASET copiado"
   ]
  },
  {
   "cell_type": "code",
   "execution_count": 58,
   "metadata": {},
   "outputs": [],
   "source": [
    "data3 = reduced_sample_train.copy()"
   ]
  },
  {
   "cell_type": "code",
   "execution_count": 59,
   "metadata": {},
   "outputs": [],
   "source": [
    "le = preprocessing.LabelEncoder()\n",
    "\n",
    "columns_to_encode = ['ArrTime_Range', 'DepTime_Range', 'Delay_level']\n",
    "\n",
    "data3[columns_to_encode] = data3[columns_to_encode].apply(le.fit_transform)\n"
   ]
  },
  {
   "cell_type": "code",
   "execution_count": 60,
   "metadata": {},
   "outputs": [],
   "source": [
    "data3 = pd.get_dummies(data=data3, columns=['FullCarrier', 'Origin', 'Dest'])"
   ]
  },
  {
   "cell_type": "code",
   "execution_count": 61,
   "metadata": {},
   "outputs": [
    {
     "data": {
      "text/html": [
       "<div>\n",
       "<style scoped>\n",
       "    .dataframe tbody tr th:only-of-type {\n",
       "        vertical-align: middle;\n",
       "    }\n",
       "\n",
       "    .dataframe tbody tr th {\n",
       "        vertical-align: top;\n",
       "    }\n",
       "\n",
       "    .dataframe thead th {\n",
       "        text-align: right;\n",
       "    }\n",
       "</style>\n",
       "<table border=\"1\" class=\"dataframe\">\n",
       "  <thead>\n",
       "    <tr style=\"text-align: right;\">\n",
       "      <th></th>\n",
       "      <th>Unnamed: 0</th>\n",
       "      <th>index</th>\n",
       "      <th>DayOfWeek</th>\n",
       "      <th>Cancelled</th>\n",
       "      <th>ArrDelay</th>\n",
       "      <th>CRSElapsedTime</th>\n",
       "      <th>DepDelay</th>\n",
       "      <th>ArrTime</th>\n",
       "      <th>DepTime</th>\n",
       "      <th>AirTime</th>\n",
       "      <th>...</th>\n",
       "      <th>Dest_TYR</th>\n",
       "      <th>Dest_TYS</th>\n",
       "      <th>Dest_VLD</th>\n",
       "      <th>Dest_VPS</th>\n",
       "      <th>Dest_WRG</th>\n",
       "      <th>Dest_WYS</th>\n",
       "      <th>Dest_XNA</th>\n",
       "      <th>Dest_YAK</th>\n",
       "      <th>Dest_YKM</th>\n",
       "      <th>Dest_YUM</th>\n",
       "    </tr>\n",
       "  </thead>\n",
       "  <tbody>\n",
       "    <tr>\n",
       "      <td>1062173</td>\n",
       "      <td>1062177</td>\n",
       "      <td>950001</td>\n",
       "      <td>3</td>\n",
       "      <td>0</td>\n",
       "      <td>-0.320243</td>\n",
       "      <td>-0.578731</td>\n",
       "      <td>-0.564827</td>\n",
       "      <td>22:44</td>\n",
       "      <td>21:00</td>\n",
       "      <td>-0.616338</td>\n",
       "      <td>...</td>\n",
       "      <td>0</td>\n",
       "      <td>0</td>\n",
       "      <td>0</td>\n",
       "      <td>0</td>\n",
       "      <td>0</td>\n",
       "      <td>0</td>\n",
       "      <td>0</td>\n",
       "      <td>0</td>\n",
       "      <td>0</td>\n",
       "      <td>0</td>\n",
       "    </tr>\n",
       "    <tr>\n",
       "      <td>437738</td>\n",
       "      <td>437739</td>\n",
       "      <td>105992</td>\n",
       "      <td>5</td>\n",
       "      <td>0</td>\n",
       "      <td>-0.690115</td>\n",
       "      <td>-0.761293</td>\n",
       "      <td>-0.602380</td>\n",
       "      <td>16:23</td>\n",
       "      <td>15:11</td>\n",
       "      <td>-0.674639</td>\n",
       "      <td>...</td>\n",
       "      <td>0</td>\n",
       "      <td>0</td>\n",
       "      <td>0</td>\n",
       "      <td>0</td>\n",
       "      <td>0</td>\n",
       "      <td>0</td>\n",
       "      <td>0</td>\n",
       "      <td>0</td>\n",
       "      <td>0</td>\n",
       "      <td>0</td>\n",
       "    </tr>\n",
       "    <tr>\n",
       "      <td>1420704</td>\n",
       "      <td>1420710</td>\n",
       "      <td>1729205</td>\n",
       "      <td>7</td>\n",
       "      <td>0</td>\n",
       "      <td>4.259127</td>\n",
       "      <td>0.614945</td>\n",
       "      <td>4.373352</td>\n",
       "      <td>22:47</td>\n",
       "      <td>18:41</td>\n",
       "      <td>0.753745</td>\n",
       "      <td>...</td>\n",
       "      <td>0</td>\n",
       "      <td>0</td>\n",
       "      <td>0</td>\n",
       "      <td>0</td>\n",
       "      <td>0</td>\n",
       "      <td>0</td>\n",
       "      <td>0</td>\n",
       "      <td>0</td>\n",
       "      <td>0</td>\n",
       "      <td>0</td>\n",
       "    </tr>\n",
       "    <tr>\n",
       "      <td>576072</td>\n",
       "      <td>576073</td>\n",
       "      <td>1559234</td>\n",
       "      <td>7</td>\n",
       "      <td>0</td>\n",
       "      <td>-0.654889</td>\n",
       "      <td>-0.017001</td>\n",
       "      <td>-0.583604</td>\n",
       "      <td>15:38</td>\n",
       "      <td>12:32</td>\n",
       "      <td>-0.091625</td>\n",
       "      <td>...</td>\n",
       "      <td>0</td>\n",
       "      <td>0</td>\n",
       "      <td>0</td>\n",
       "      <td>0</td>\n",
       "      <td>0</td>\n",
       "      <td>0</td>\n",
       "      <td>0</td>\n",
       "      <td>0</td>\n",
       "      <td>0</td>\n",
       "      <td>0</td>\n",
       "    </tr>\n",
       "    <tr>\n",
       "      <td>684806</td>\n",
       "      <td>684808</td>\n",
       "      <td>1116800</td>\n",
       "      <td>1</td>\n",
       "      <td>0</td>\n",
       "      <td>-0.742954</td>\n",
       "      <td>-0.845553</td>\n",
       "      <td>-0.621157</td>\n",
       "      <td>07:19</td>\n",
       "      <td>06:15</td>\n",
       "      <td>-0.995297</td>\n",
       "      <td>...</td>\n",
       "      <td>0</td>\n",
       "      <td>0</td>\n",
       "      <td>0</td>\n",
       "      <td>0</td>\n",
       "      <td>0</td>\n",
       "      <td>0</td>\n",
       "      <td>0</td>\n",
       "      <td>0</td>\n",
       "      <td>0</td>\n",
       "      <td>0</td>\n",
       "    </tr>\n",
       "  </tbody>\n",
       "</table>\n",
       "<p>5 rows × 630 columns</p>\n",
       "</div>"
      ],
      "text/plain": [
       "         Unnamed: 0    index  DayOfWeek  Cancelled  ArrDelay  CRSElapsedTime  \\\n",
       "1062173     1062177   950001          3          0 -0.320243       -0.578731   \n",
       "437738       437739   105992          5          0 -0.690115       -0.761293   \n",
       "1420704     1420710  1729205          7          0  4.259127        0.614945   \n",
       "576072       576073  1559234          7          0 -0.654889       -0.017001   \n",
       "684806       684808  1116800          1          0 -0.742954       -0.845553   \n",
       "\n",
       "         DepDelay ArrTime DepTime   AirTime  ...  Dest_TYR  Dest_TYS  \\\n",
       "1062173 -0.564827   22:44   21:00 -0.616338  ...         0         0   \n",
       "437738  -0.602380   16:23   15:11 -0.674639  ...         0         0   \n",
       "1420704  4.373352   22:47   18:41  0.753745  ...         0         0   \n",
       "576072  -0.583604   15:38   12:32 -0.091625  ...         0         0   \n",
       "684806  -0.621157   07:19   06:15 -0.995297  ...         0         0   \n",
       "\n",
       "         Dest_VLD  Dest_VPS  Dest_WRG  Dest_WYS  Dest_XNA  Dest_YAK  Dest_YKM  \\\n",
       "1062173         0         0         0         0         0         0         0   \n",
       "437738          0         0         0         0         0         0         0   \n",
       "1420704         0         0         0         0         0         0         0   \n",
       "576072          0         0         0         0         0         0         0   \n",
       "684806          0         0         0         0         0         0         0   \n",
       "\n",
       "         Dest_YUM  \n",
       "1062173         0  \n",
       "437738          0  \n",
       "1420704         0  \n",
       "576072          0  \n",
       "684806          0  \n",
       "\n",
       "[5 rows x 630 columns]"
      ]
     },
     "execution_count": 61,
     "metadata": {},
     "output_type": "execute_result"
    }
   ],
   "source": [
    "data3.head()"
   ]
  },
  {
   "cell_type": "markdown",
   "metadata": {},
   "source": [
    "### Separación en TRAIN y TEST sets"
   ]
  },
  {
   "cell_type": "code",
   "execution_count": 62,
   "metadata": {},
   "outputs": [],
   "source": [
    "train3, test3 = train_test_split(data3, test_size = 0.2, random_state=42)"
   ]
  },
  {
   "cell_type": "markdown",
   "metadata": {},
   "source": [
    "## Definiciòn de variables de nuevo modelo incluyendo FullCarrier, Origin y Dest"
   ]
  },
  {
   "cell_type": "code",
   "execution_count": 63,
   "metadata": {},
   "outputs": [],
   "source": [
    "columns_to_drop_c = ['Unnamed: 0', 'index', 'Cancelled', 'ArrDelay', 'CRSElapsedTime', 'ArrTime', 'DepTime', '10%_Delayed']"
   ]
  },
  {
   "cell_type": "code",
   "execution_count": 64,
   "metadata": {},
   "outputs": [],
   "source": [
    "X_train_c = train3.drop(columns = columns_to_drop_c, axis=1).values\n",
    "y_train_c = train3['ArrDelay'].values"
   ]
  },
  {
   "cell_type": "markdown",
   "metadata": {},
   "source": [
    "##### Checking same amount of columns:"
   ]
  },
  {
   "cell_type": "code",
   "execution_count": 65,
   "metadata": {
    "scrolled": true
   },
   "outputs": [
    {
     "name": "stdout",
     "output_type": "stream",
     "text": [
      "622\n",
      "622\n"
     ]
    }
   ],
   "source": [
    "print(len(train3.drop(columns = columns_to_drop_c, axis=1).columns))\n",
    "print(len(test3.drop(columns = columns_to_drop_c, axis=1).columns))"
   ]
  },
  {
   "cell_type": "code",
   "execution_count": 66,
   "metadata": {},
   "outputs": [],
   "source": [
    "X_test_c = test3.drop(columns = columns_to_drop_c, axis=1).values\n",
    "y_test_c = test3['ArrDelay'].values"
   ]
  },
  {
   "cell_type": "code",
   "execution_count": 67,
   "metadata": {},
   "outputs": [
    {
     "data": {
      "text/plain": [
       "array([[ 4.        , -0.2456296 ,  3.17325308, ...,  0.        ,\n",
       "         0.        ,  0.        ],\n",
       "       [ 7.        ,  5.38727426, -0.8641186 , ...,  0.        ,\n",
       "         0.        ,  0.        ],\n",
       "       [ 7.        , -0.65870921, -0.13535115, ...,  0.        ,\n",
       "         0.        ,  0.        ],\n",
       "       ...,\n",
       "       [ 1.        , -0.4897221 ,  0.37478607, ...,  0.        ,\n",
       "         0.        ,  0.        ],\n",
       "       [ 2.        , -0.4897221 ,  1.4533619 , ...,  0.        ,\n",
       "         0.        ,  0.        ],\n",
       "       [ 7.        ,  0.31766079,  0.53511491, ...,  0.        ,\n",
       "         0.        ,  0.        ]])"
      ]
     },
     "execution_count": 67,
     "metadata": {},
     "output_type": "execute_result"
    }
   ],
   "source": [
    "X_test_c"
   ]
  },
  {
   "cell_type": "code",
   "execution_count": 68,
   "metadata": {},
   "outputs": [
    {
     "data": {
      "text/plain": [
       "array([ 0.78937331, -0.17933952, -0.63727649, ...,  0.77176035,\n",
       "       -0.76056722, -0.84863202])"
      ]
     },
     "execution_count": 68,
     "metadata": {},
     "output_type": "execute_result"
    }
   ],
   "source": [
    "y_train_c"
   ]
  },
  {
   "cell_type": "code",
   "execution_count": 69,
   "metadata": {},
   "outputs": [
    {
     "data": {
      "text/html": [
       "<div>\n",
       "<style scoped>\n",
       "    .dataframe tbody tr th:only-of-type {\n",
       "        vertical-align: middle;\n",
       "    }\n",
       "\n",
       "    .dataframe tbody tr th {\n",
       "        vertical-align: top;\n",
       "    }\n",
       "\n",
       "    .dataframe thead th {\n",
       "        text-align: right;\n",
       "    }\n",
       "</style>\n",
       "<table border=\"1\" class=\"dataframe\">\n",
       "  <thead>\n",
       "    <tr style=\"text-align: right;\">\n",
       "      <th></th>\n",
       "      <th>DayOfWeek</th>\n",
       "      <th>DepDelay</th>\n",
       "      <th>AirTime</th>\n",
       "      <th>Distance</th>\n",
       "      <th>AvgSpeed</th>\n",
       "      <th>ArrDelay_vs_CRSElapsedTime</th>\n",
       "      <th>Delay_level</th>\n",
       "      <th>ArrTime_Range</th>\n",
       "      <th>DepTime_Range</th>\n",
       "      <th>FullCarrier_AirTran Airways Corporation</th>\n",
       "      <th>...</th>\n",
       "      <th>Dest_TYR</th>\n",
       "      <th>Dest_TYS</th>\n",
       "      <th>Dest_VLD</th>\n",
       "      <th>Dest_VPS</th>\n",
       "      <th>Dest_WRG</th>\n",
       "      <th>Dest_WYS</th>\n",
       "      <th>Dest_XNA</th>\n",
       "      <th>Dest_YAK</th>\n",
       "      <th>Dest_YKM</th>\n",
       "      <th>Dest_YUM</th>\n",
       "    </tr>\n",
       "  </thead>\n",
       "  <tbody>\n",
       "    <tr>\n",
       "      <td>747974</td>\n",
       "      <td>7</td>\n",
       "      <td>0.956057</td>\n",
       "      <td>-0.907845</td>\n",
       "      <td>-0.768833</td>\n",
       "      <td>0.251940</td>\n",
       "      <td>1.487356</td>\n",
       "      <td>2</td>\n",
       "      <td>16</td>\n",
       "      <td>15</td>\n",
       "      <td>0</td>\n",
       "      <td>...</td>\n",
       "      <td>0</td>\n",
       "      <td>0</td>\n",
       "      <td>0</td>\n",
       "      <td>0</td>\n",
       "      <td>0</td>\n",
       "      <td>0</td>\n",
       "      <td>0</td>\n",
       "      <td>0</td>\n",
       "      <td>0</td>\n",
       "      <td>0</td>\n",
       "    </tr>\n",
       "    <tr>\n",
       "      <td>896507</td>\n",
       "      <td>7</td>\n",
       "      <td>-0.283182</td>\n",
       "      <td>1.730294</td>\n",
       "      <td>1.692278</td>\n",
       "      <td>0.608784</td>\n",
       "      <td>-0.424566</td>\n",
       "      <td>0</td>\n",
       "      <td>8</td>\n",
       "      <td>5</td>\n",
       "      <td>0</td>\n",
       "      <td>...</td>\n",
       "      <td>0</td>\n",
       "      <td>0</td>\n",
       "      <td>0</td>\n",
       "      <td>0</td>\n",
       "      <td>0</td>\n",
       "      <td>0</td>\n",
       "      <td>0</td>\n",
       "      <td>0</td>\n",
       "      <td>0</td>\n",
       "      <td>0</td>\n",
       "    </tr>\n",
       "    <tr>\n",
       "      <td>1525158</td>\n",
       "      <td>5</td>\n",
       "      <td>-0.696262</td>\n",
       "      <td>-0.514310</td>\n",
       "      <td>-0.448122</td>\n",
       "      <td>0.201919</td>\n",
       "      <td>-0.538806</td>\n",
       "      <td>3</td>\n",
       "      <td>13</td>\n",
       "      <td>11</td>\n",
       "      <td>0</td>\n",
       "      <td>...</td>\n",
       "      <td>0</td>\n",
       "      <td>0</td>\n",
       "      <td>0</td>\n",
       "      <td>0</td>\n",
       "      <td>0</td>\n",
       "      <td>0</td>\n",
       "      <td>0</td>\n",
       "      <td>0</td>\n",
       "      <td>0</td>\n",
       "      <td>0</td>\n",
       "    </tr>\n",
       "    <tr>\n",
       "      <td>432233</td>\n",
       "      <td>6</td>\n",
       "      <td>-0.639933</td>\n",
       "      <td>-0.718365</td>\n",
       "      <td>-0.676454</td>\n",
       "      <td>-0.134247</td>\n",
       "      <td>-0.508659</td>\n",
       "      <td>3</td>\n",
       "      <td>6</td>\n",
       "      <td>4</td>\n",
       "      <td>0</td>\n",
       "      <td>...</td>\n",
       "      <td>0</td>\n",
       "      <td>0</td>\n",
       "      <td>0</td>\n",
       "      <td>0</td>\n",
       "      <td>0</td>\n",
       "      <td>0</td>\n",
       "      <td>0</td>\n",
       "      <td>0</td>\n",
       "      <td>0</td>\n",
       "      <td>0</td>\n",
       "    </tr>\n",
       "    <tr>\n",
       "      <td>1161614</td>\n",
       "      <td>6</td>\n",
       "      <td>1.312807</td>\n",
       "      <td>-0.645488</td>\n",
       "      <td>-0.416748</td>\n",
       "      <td>0.946229</td>\n",
       "      <td>1.001839</td>\n",
       "      <td>2</td>\n",
       "      <td>0</td>\n",
       "      <td>0</td>\n",
       "      <td>1</td>\n",
       "      <td>...</td>\n",
       "      <td>0</td>\n",
       "      <td>0</td>\n",
       "      <td>0</td>\n",
       "      <td>0</td>\n",
       "      <td>0</td>\n",
       "      <td>0</td>\n",
       "      <td>0</td>\n",
       "      <td>0</td>\n",
       "      <td>0</td>\n",
       "      <td>0</td>\n",
       "    </tr>\n",
       "  </tbody>\n",
       "</table>\n",
       "<p>5 rows × 622 columns</p>\n",
       "</div>"
      ],
      "text/plain": [
       "         DayOfWeek  DepDelay   AirTime  Distance  AvgSpeed  \\\n",
       "747974           7  0.956057 -0.907845 -0.768833  0.251940   \n",
       "896507           7 -0.283182  1.730294  1.692278  0.608784   \n",
       "1525158          5 -0.696262 -0.514310 -0.448122  0.201919   \n",
       "432233           6 -0.639933 -0.718365 -0.676454 -0.134247   \n",
       "1161614          6  1.312807 -0.645488 -0.416748  0.946229   \n",
       "\n",
       "         ArrDelay_vs_CRSElapsedTime  Delay_level  ArrTime_Range  \\\n",
       "747974                     1.487356            2             16   \n",
       "896507                    -0.424566            0              8   \n",
       "1525158                   -0.538806            3             13   \n",
       "432233                    -0.508659            3              6   \n",
       "1161614                    1.001839            2              0   \n",
       "\n",
       "         DepTime_Range  FullCarrier_AirTran Airways Corporation  ...  \\\n",
       "747974              15                                        0  ...   \n",
       "896507               5                                        0  ...   \n",
       "1525158             11                                        0  ...   \n",
       "432233               4                                        0  ...   \n",
       "1161614              0                                        1  ...   \n",
       "\n",
       "         Dest_TYR  Dest_TYS  Dest_VLD  Dest_VPS  Dest_WRG  Dest_WYS  Dest_XNA  \\\n",
       "747974          0         0         0         0         0         0         0   \n",
       "896507          0         0         0         0         0         0         0   \n",
       "1525158         0         0         0         0         0         0         0   \n",
       "432233          0         0         0         0         0         0         0   \n",
       "1161614         0         0         0         0         0         0         0   \n",
       "\n",
       "         Dest_YAK  Dest_YKM  Dest_YUM  \n",
       "747974          0         0         0  \n",
       "896507          0         0         0  \n",
       "1525158         0         0         0  \n",
       "432233          0         0         0  \n",
       "1161614         0         0         0  \n",
       "\n",
       "[5 rows x 622 columns]"
      ]
     },
     "execution_count": 69,
     "metadata": {},
     "output_type": "execute_result"
    }
   ],
   "source": [
    "train3.drop(columns=columns_to_drop_c, axis=1).head()"
   ]
  },
  {
   "cell_type": "code",
   "execution_count": 70,
   "metadata": {},
   "outputs": [
    {
     "data": {
      "text/html": [
       "<div>\n",
       "<style scoped>\n",
       "    .dataframe tbody tr th:only-of-type {\n",
       "        vertical-align: middle;\n",
       "    }\n",
       "\n",
       "    .dataframe tbody tr th {\n",
       "        vertical-align: top;\n",
       "    }\n",
       "\n",
       "    .dataframe thead th {\n",
       "        text-align: right;\n",
       "    }\n",
       "</style>\n",
       "<table border=\"1\" class=\"dataframe\">\n",
       "  <thead>\n",
       "    <tr style=\"text-align: right;\">\n",
       "      <th></th>\n",
       "      <th>DayOfWeek</th>\n",
       "      <th>DepDelay</th>\n",
       "      <th>AirTime</th>\n",
       "      <th>Distance</th>\n",
       "      <th>AvgSpeed</th>\n",
       "      <th>ArrDelay_vs_CRSElapsedTime</th>\n",
       "      <th>Delay_level</th>\n",
       "      <th>ArrTime_Range</th>\n",
       "      <th>DepTime_Range</th>\n",
       "      <th>FullCarrier_AirTran Airways Corporation</th>\n",
       "      <th>...</th>\n",
       "      <th>Dest_TYR</th>\n",
       "      <th>Dest_TYS</th>\n",
       "      <th>Dest_VLD</th>\n",
       "      <th>Dest_VPS</th>\n",
       "      <th>Dest_WRG</th>\n",
       "      <th>Dest_WYS</th>\n",
       "      <th>Dest_XNA</th>\n",
       "      <th>Dest_YAK</th>\n",
       "      <th>Dest_YKM</th>\n",
       "      <th>Dest_YUM</th>\n",
       "    </tr>\n",
       "  </thead>\n",
       "  <tbody>\n",
       "    <tr>\n",
       "      <td>331306</td>\n",
       "      <td>4</td>\n",
       "      <td>-0.245630</td>\n",
       "      <td>3.173253</td>\n",
       "      <td>2.860085</td>\n",
       "      <td>0.450941</td>\n",
       "      <td>-0.630832</td>\n",
       "      <td>3</td>\n",
       "      <td>18</td>\n",
       "      <td>16</td>\n",
       "      <td>0</td>\n",
       "      <td>...</td>\n",
       "      <td>0</td>\n",
       "      <td>0</td>\n",
       "      <td>0</td>\n",
       "      <td>0</td>\n",
       "      <td>0</td>\n",
       "      <td>0</td>\n",
       "      <td>0</td>\n",
       "      <td>0</td>\n",
       "      <td>0</td>\n",
       "      <td>0</td>\n",
       "    </tr>\n",
       "    <tr>\n",
       "      <td>266174</td>\n",
       "      <td>7</td>\n",
       "      <td>5.387274</td>\n",
       "      <td>-0.864119</td>\n",
       "      <td>-0.714800</td>\n",
       "      <td>0.370888</td>\n",
       "      <td>5.711037</td>\n",
       "      <td>2</td>\n",
       "      <td>17</td>\n",
       "      <td>16</td>\n",
       "      <td>0</td>\n",
       "      <td>...</td>\n",
       "      <td>0</td>\n",
       "      <td>0</td>\n",
       "      <td>0</td>\n",
       "      <td>0</td>\n",
       "      <td>0</td>\n",
       "      <td>0</td>\n",
       "      <td>0</td>\n",
       "      <td>0</td>\n",
       "      <td>0</td>\n",
       "      <td>0</td>\n",
       "    </tr>\n",
       "    <tr>\n",
       "      <td>755686</td>\n",
       "      <td>7</td>\n",
       "      <td>-0.658709</td>\n",
       "      <td>-0.135351</td>\n",
       "      <td>-0.238962</td>\n",
       "      <td>-0.161621</td>\n",
       "      <td>0.638494</td>\n",
       "      <td>2</td>\n",
       "      <td>14</td>\n",
       "      <td>10</td>\n",
       "      <td>0</td>\n",
       "      <td>...</td>\n",
       "      <td>0</td>\n",
       "      <td>0</td>\n",
       "      <td>0</td>\n",
       "      <td>0</td>\n",
       "      <td>0</td>\n",
       "      <td>0</td>\n",
       "      <td>0</td>\n",
       "      <td>0</td>\n",
       "      <td>0</td>\n",
       "      <td>0</td>\n",
       "    </tr>\n",
       "    <tr>\n",
       "      <td>1119088</td>\n",
       "      <td>5</td>\n",
       "      <td>0.655635</td>\n",
       "      <td>0.622567</td>\n",
       "      <td>0.559330</td>\n",
       "      <td>0.339674</td>\n",
       "      <td>0.419535</td>\n",
       "      <td>2</td>\n",
       "      <td>13</td>\n",
       "      <td>9</td>\n",
       "      <td>0</td>\n",
       "      <td>...</td>\n",
       "      <td>0</td>\n",
       "      <td>0</td>\n",
       "      <td>0</td>\n",
       "      <td>0</td>\n",
       "      <td>0</td>\n",
       "      <td>0</td>\n",
       "      <td>0</td>\n",
       "      <td>0</td>\n",
       "      <td>0</td>\n",
       "      <td>0</td>\n",
       "    </tr>\n",
       "    <tr>\n",
       "      <td>1516357</td>\n",
       "      <td>2</td>\n",
       "      <td>-0.508498</td>\n",
       "      <td>-0.018748</td>\n",
       "      <td>-0.151812</td>\n",
       "      <td>-0.165756</td>\n",
       "      <td>-0.556259</td>\n",
       "      <td>3</td>\n",
       "      <td>7</td>\n",
       "      <td>6</td>\n",
       "      <td>0</td>\n",
       "      <td>...</td>\n",
       "      <td>0</td>\n",
       "      <td>0</td>\n",
       "      <td>0</td>\n",
       "      <td>0</td>\n",
       "      <td>0</td>\n",
       "      <td>0</td>\n",
       "      <td>0</td>\n",
       "      <td>0</td>\n",
       "      <td>0</td>\n",
       "      <td>0</td>\n",
       "    </tr>\n",
       "  </tbody>\n",
       "</table>\n",
       "<p>5 rows × 622 columns</p>\n",
       "</div>"
      ],
      "text/plain": [
       "         DayOfWeek  DepDelay   AirTime  Distance  AvgSpeed  \\\n",
       "331306           4 -0.245630  3.173253  2.860085  0.450941   \n",
       "266174           7  5.387274 -0.864119 -0.714800  0.370888   \n",
       "755686           7 -0.658709 -0.135351 -0.238962 -0.161621   \n",
       "1119088          5  0.655635  0.622567  0.559330  0.339674   \n",
       "1516357          2 -0.508498 -0.018748 -0.151812 -0.165756   \n",
       "\n",
       "         ArrDelay_vs_CRSElapsedTime  Delay_level  ArrTime_Range  \\\n",
       "331306                    -0.630832            3             18   \n",
       "266174                     5.711037            2             17   \n",
       "755686                     0.638494            2             14   \n",
       "1119088                    0.419535            2             13   \n",
       "1516357                   -0.556259            3              7   \n",
       "\n",
       "         DepTime_Range  FullCarrier_AirTran Airways Corporation  ...  \\\n",
       "331306              16                                        0  ...   \n",
       "266174              16                                        0  ...   \n",
       "755686              10                                        0  ...   \n",
       "1119088              9                                        0  ...   \n",
       "1516357              6                                        0  ...   \n",
       "\n",
       "         Dest_TYR  Dest_TYS  Dest_VLD  Dest_VPS  Dest_WRG  Dest_WYS  Dest_XNA  \\\n",
       "331306          0         0         0         0         0         0         0   \n",
       "266174          0         0         0         0         0         0         0   \n",
       "755686          0         0         0         0         0         0         0   \n",
       "1119088         0         0         0         0         0         0         0   \n",
       "1516357         0         0         0         0         0         0         0   \n",
       "\n",
       "         Dest_YAK  Dest_YKM  Dest_YUM  \n",
       "331306          0         0         0  \n",
       "266174          0         0         0  \n",
       "755686          0         0         0  \n",
       "1119088         0         0         0  \n",
       "1516357         0         0         0  \n",
       "\n",
       "[5 rows x 622 columns]"
      ]
     },
     "execution_count": 70,
     "metadata": {},
     "output_type": "execute_result"
    }
   ],
   "source": [
    "test3.drop(columns=columns_to_drop_c, axis=1).head()"
   ]
  },
  {
   "cell_type": "markdown",
   "metadata": {},
   "source": [
    "### Evaluación del nuevo modelo"
   ]
  },
  {
   "cell_type": "code",
   "execution_count": 71,
   "metadata": {},
   "outputs": [
    {
     "name": "stdout",
     "output_type": "stream",
     "text": [
      "LinearRegression\n",
      "    MAE 1532.0421422459701\n",
      "    RMSE 155355.32836219805\n",
      "    R2 -24038549819.862785\n",
      "DecisionTreeRegressor\n",
      "    MAE 0.051162870466287876\n",
      "    RMSE 0.12990393028516986\n",
      "    R2 0.9831925998506543\n",
      "Ridge\n",
      "    MAE 0.13994768302094246\n",
      "    RMSE 0.2306042976797251\n",
      "    R2 0.947034783544381\n",
      "Lasso\n",
      "    MAE 0.16008477944680624\n",
      "    RMSE 0.2594202560216544\n",
      "    R2 0.9329708480013907\n",
      "ElasticNet\n",
      "    MAE 0.15245329365213553\n",
      "    RMSE 0.25015878296241173\n",
      "    R2 0.9376713861430714\n",
      "LinearRegression\n",
      "    MAE 1880.7581996054976\n",
      "    RMSE 190719.79040524788\n",
      "    R2 -36228260294.54027\n"
     ]
    }
   ],
   "source": [
    "# Build some models and check them against training data using MAE, RMSE and R2\n",
    "models = [LinearRegression(), DecisionTreeRegressor(random_state=32), Ridge(alpha=0.01), Lasso(alpha=0.01), ElasticNet(alpha = 0.01), LinearRegression()]\n",
    "for model in models:\n",
    "    model.fit(X_train_c, y_train_c)\n",
    "    predictions_c = model.predict(X_test_c)\n",
    "    print(type(model).__name__)\n",
    "    print(\"    MAE\", mean_absolute_error(y_test_c, predictions_c))\n",
    "    print(\"    RMSE\", sqrt(mean_squared_error(y_test_c, predictions_c)))\n",
    "    print(\"    R2\", r2_score(y_test_c, predictions_c))"
   ]
  },
  {
   "cell_type": "markdown",
   "metadata": {},
   "source": [
    "# EJERCICIO 6: Modelos excluyendo \"DepDelay\""
   ]
  },
  {
   "cell_type": "markdown",
   "metadata": {},
   "source": [
    "### Modelo con selección de variables básicas sin DepDelay"
   ]
  },
  {
   "cell_type": "code",
   "execution_count": 72,
   "metadata": {},
   "outputs": [],
   "source": [
    "train_columns_to_drop_final = ['DepDelay', 'FullCarrier', 'Origin', 'Dest', 'Delay_level', 'ArrTime_Range', 'DepTime_Range', 'Unnamed: 0', 'index', 'Cancelled', 'ArrDelay', 'CRSElapsedTime', 'ArrTime', 'DepTime', '10%_Delayed']"
   ]
  },
  {
   "cell_type": "code",
   "execution_count": 73,
   "metadata": {},
   "outputs": [
    {
     "data": {
      "text/html": [
       "<div>\n",
       "<style scoped>\n",
       "    .dataframe tbody tr th:only-of-type {\n",
       "        vertical-align: middle;\n",
       "    }\n",
       "\n",
       "    .dataframe tbody tr th {\n",
       "        vertical-align: top;\n",
       "    }\n",
       "\n",
       "    .dataframe thead th {\n",
       "        text-align: right;\n",
       "    }\n",
       "</style>\n",
       "<table border=\"1\" class=\"dataframe\">\n",
       "  <thead>\n",
       "    <tr style=\"text-align: right;\">\n",
       "      <th></th>\n",
       "      <th>DayOfWeek</th>\n",
       "      <th>AirTime</th>\n",
       "      <th>Distance</th>\n",
       "      <th>AvgSpeed</th>\n",
       "      <th>ArrDelay_vs_CRSElapsedTime</th>\n",
       "    </tr>\n",
       "  </thead>\n",
       "  <tbody>\n",
       "    <tr>\n",
       "      <td>747974</td>\n",
       "      <td>7</td>\n",
       "      <td>-0.907845</td>\n",
       "      <td>-0.768833</td>\n",
       "      <td>0.251940</td>\n",
       "      <td>1.487356</td>\n",
       "    </tr>\n",
       "    <tr>\n",
       "      <td>896507</td>\n",
       "      <td>7</td>\n",
       "      <td>1.730294</td>\n",
       "      <td>1.692278</td>\n",
       "      <td>0.608784</td>\n",
       "      <td>-0.424566</td>\n",
       "    </tr>\n",
       "    <tr>\n",
       "      <td>1525158</td>\n",
       "      <td>5</td>\n",
       "      <td>-0.514310</td>\n",
       "      <td>-0.448122</td>\n",
       "      <td>0.201919</td>\n",
       "      <td>-0.538806</td>\n",
       "    </tr>\n",
       "    <tr>\n",
       "      <td>432233</td>\n",
       "      <td>6</td>\n",
       "      <td>-0.718365</td>\n",
       "      <td>-0.676454</td>\n",
       "      <td>-0.134247</td>\n",
       "      <td>-0.508659</td>\n",
       "    </tr>\n",
       "    <tr>\n",
       "      <td>1161614</td>\n",
       "      <td>6</td>\n",
       "      <td>-0.645488</td>\n",
       "      <td>-0.416748</td>\n",
       "      <td>0.946229</td>\n",
       "      <td>1.001839</td>\n",
       "    </tr>\n",
       "    <tr>\n",
       "      <td>...</td>\n",
       "      <td>...</td>\n",
       "      <td>...</td>\n",
       "      <td>...</td>\n",
       "      <td>...</td>\n",
       "      <td>...</td>\n",
       "    </tr>\n",
       "    <tr>\n",
       "      <td>280608</td>\n",
       "      <td>3</td>\n",
       "      <td>-0.645488</td>\n",
       "      <td>-0.857726</td>\n",
       "      <td>-1.389206</td>\n",
       "      <td>0.527428</td>\n",
       "    </tr>\n",
       "    <tr>\n",
       "      <td>363704</td>\n",
       "      <td>4</td>\n",
       "      <td>0.127005</td>\n",
       "      <td>0.278708</td>\n",
       "      <td>0.761506</td>\n",
       "      <td>2.590082</td>\n",
       "    </tr>\n",
       "    <tr>\n",
       "      <td>1235607</td>\n",
       "      <td>4</td>\n",
       "      <td>0.054128</td>\n",
       "      <td>-0.275565</td>\n",
       "      <td>-0.707422</td>\n",
       "      <td>0.456028</td>\n",
       "    </tr>\n",
       "    <tr>\n",
       "      <td>448013</td>\n",
       "      <td>1</td>\n",
       "      <td>-0.893269</td>\n",
       "      <td>-0.805436</td>\n",
       "      <td>-0.100571</td>\n",
       "      <td>-0.659392</td>\n",
       "    </tr>\n",
       "    <tr>\n",
       "      <td>41988</td>\n",
       "      <td>1</td>\n",
       "      <td>0.185307</td>\n",
       "      <td>0.118352</td>\n",
       "      <td>0.157904</td>\n",
       "      <td>-0.700645</td>\n",
       "    </tr>\n",
       "  </tbody>\n",
       "</table>\n",
       "<p>123415 rows × 5 columns</p>\n",
       "</div>"
      ],
      "text/plain": [
       "         DayOfWeek   AirTime  Distance  AvgSpeed  ArrDelay_vs_CRSElapsedTime\n",
       "747974           7 -0.907845 -0.768833  0.251940                    1.487356\n",
       "896507           7  1.730294  1.692278  0.608784                   -0.424566\n",
       "1525158          5 -0.514310 -0.448122  0.201919                   -0.538806\n",
       "432233           6 -0.718365 -0.676454 -0.134247                   -0.508659\n",
       "1161614          6 -0.645488 -0.416748  0.946229                    1.001839\n",
       "...            ...       ...       ...       ...                         ...\n",
       "280608           3 -0.645488 -0.857726 -1.389206                    0.527428\n",
       "363704           4  0.127005  0.278708  0.761506                    2.590082\n",
       "1235607          4  0.054128 -0.275565 -0.707422                    0.456028\n",
       "448013           1 -0.893269 -0.805436 -0.100571                   -0.659392\n",
       "41988            1  0.185307  0.118352  0.157904                   -0.700645\n",
       "\n",
       "[123415 rows x 5 columns]"
      ]
     },
     "execution_count": 73,
     "metadata": {},
     "output_type": "execute_result"
    }
   ],
   "source": [
    "train.drop(columns=train_columns_to_drop_final, axis=1)"
   ]
  },
  {
   "cell_type": "code",
   "execution_count": 74,
   "metadata": {},
   "outputs": [],
   "source": [
    "X_train_final = train.drop(columns = train_columns_to_drop_final, axis=1).values\n",
    "y_train_final = train['ArrDelay'].values"
   ]
  },
  {
   "cell_type": "code",
   "execution_count": 75,
   "metadata": {},
   "outputs": [
    {
     "data": {
      "text/plain": [
       "array([[ 7.        , -0.90784465, -0.76883296,  0.25193994,  1.48735561],\n",
       "       [ 7.        ,  1.73029353,  1.69227782,  0.60878355, -0.42456627],\n",
       "       [ 5.        , -0.51431022, -0.44812164,  0.20191882, -0.53880558],\n",
       "       ...,\n",
       "       [ 4.        ,  0.05412839, -0.27556501, -0.7074219 ,  0.45602846],\n",
       "       [ 1.        , -0.8932693 , -0.80543589, -0.10057114, -0.65939153],\n",
       "       [ 1.        ,  0.18530653,  0.11835216,  0.15790416, -0.70064461]])"
      ]
     },
     "execution_count": 75,
     "metadata": {},
     "output_type": "execute_result"
    }
   ],
   "source": [
    "X_train_final"
   ]
  },
  {
   "cell_type": "code",
   "execution_count": 76,
   "metadata": {},
   "outputs": [],
   "source": [
    "X_test_final = test.drop(columns = train_columns_to_drop_final, axis=1).values\n",
    "y_test_final = test['ArrDelay'].values"
   ]
  },
  {
   "cell_type": "code",
   "execution_count": 77,
   "metadata": {},
   "outputs": [
    {
     "data": {
      "text/plain": [
       "array([[ 4.        ,  3.17325308,  2.86008535,  0.4509413 , -0.6308317 ],\n",
       "       [ 7.        , -0.8641186 , -0.71480008,  0.37088781,  5.71103698],\n",
       "       [ 7.        , -0.13535115, -0.23896209, -0.16162054,  0.63849403],\n",
       "       ...,\n",
       "       [ 1.        ,  0.37478607,  0.42511951,  0.53926601, -0.53880558],\n",
       "       [ 2.        ,  1.4533619 ,  1.4691743 ,  0.65801694, -0.44360615],\n",
       "       [ 7.        ,  0.53511491,  0.35191366,  0.03068508, -0.03107529]])"
      ]
     },
     "execution_count": 77,
     "metadata": {},
     "output_type": "execute_result"
    }
   ],
   "source": [
    "X_test_final"
   ]
  },
  {
   "cell_type": "code",
   "execution_count": 78,
   "metadata": {},
   "outputs": [
    {
     "data": {
      "text/html": [
       "<div>\n",
       "<style scoped>\n",
       "    .dataframe tbody tr th:only-of-type {\n",
       "        vertical-align: middle;\n",
       "    }\n",
       "\n",
       "    .dataframe tbody tr th {\n",
       "        vertical-align: top;\n",
       "    }\n",
       "\n",
       "    .dataframe thead th {\n",
       "        text-align: right;\n",
       "    }\n",
       "</style>\n",
       "<table border=\"1\" class=\"dataframe\">\n",
       "  <thead>\n",
       "    <tr style=\"text-align: right;\">\n",
       "      <th></th>\n",
       "      <th>DayOfWeek</th>\n",
       "      <th>AirTime</th>\n",
       "      <th>Distance</th>\n",
       "      <th>AvgSpeed</th>\n",
       "      <th>ArrDelay_vs_CRSElapsedTime</th>\n",
       "    </tr>\n",
       "  </thead>\n",
       "  <tbody>\n",
       "    <tr>\n",
       "      <td>747974</td>\n",
       "      <td>7</td>\n",
       "      <td>-0.907845</td>\n",
       "      <td>-0.768833</td>\n",
       "      <td>0.251940</td>\n",
       "      <td>1.487356</td>\n",
       "    </tr>\n",
       "    <tr>\n",
       "      <td>896507</td>\n",
       "      <td>7</td>\n",
       "      <td>1.730294</td>\n",
       "      <td>1.692278</td>\n",
       "      <td>0.608784</td>\n",
       "      <td>-0.424566</td>\n",
       "    </tr>\n",
       "    <tr>\n",
       "      <td>1525158</td>\n",
       "      <td>5</td>\n",
       "      <td>-0.514310</td>\n",
       "      <td>-0.448122</td>\n",
       "      <td>0.201919</td>\n",
       "      <td>-0.538806</td>\n",
       "    </tr>\n",
       "    <tr>\n",
       "      <td>432233</td>\n",
       "      <td>6</td>\n",
       "      <td>-0.718365</td>\n",
       "      <td>-0.676454</td>\n",
       "      <td>-0.134247</td>\n",
       "      <td>-0.508659</td>\n",
       "    </tr>\n",
       "    <tr>\n",
       "      <td>1161614</td>\n",
       "      <td>6</td>\n",
       "      <td>-0.645488</td>\n",
       "      <td>-0.416748</td>\n",
       "      <td>0.946229</td>\n",
       "      <td>1.001839</td>\n",
       "    </tr>\n",
       "  </tbody>\n",
       "</table>\n",
       "</div>"
      ],
      "text/plain": [
       "         DayOfWeek   AirTime  Distance  AvgSpeed  ArrDelay_vs_CRSElapsedTime\n",
       "747974           7 -0.907845 -0.768833  0.251940                    1.487356\n",
       "896507           7  1.730294  1.692278  0.608784                   -0.424566\n",
       "1525158          5 -0.514310 -0.448122  0.201919                   -0.538806\n",
       "432233           6 -0.718365 -0.676454 -0.134247                   -0.508659\n",
       "1161614          6 -0.645488 -0.416748  0.946229                    1.001839"
      ]
     },
     "execution_count": 78,
     "metadata": {},
     "output_type": "execute_result"
    }
   ],
   "source": [
    "train.drop(columns=train_columns_to_drop_final, axis=1).head()"
   ]
  },
  {
   "cell_type": "code",
   "execution_count": 79,
   "metadata": {},
   "outputs": [
    {
     "data": {
      "text/plain": [
       "array([ 0.78937331, -0.17933952, -0.63727649, ...,  0.77176035,\n",
       "       -0.76056722, -0.84863202])"
      ]
     },
     "execution_count": 79,
     "metadata": {},
     "output_type": "execute_result"
    }
   ],
   "source": [
    "y_train_final"
   ]
  },
  {
   "cell_type": "code",
   "execution_count": 80,
   "metadata": {
    "scrolled": false
   },
   "outputs": [
    {
     "name": "stdout",
     "output_type": "stream",
     "text": [
      "LinearRegression\n",
      "    MAE 0.24044946650175203\n",
      "    RMSE 0.4645656201550736\n",
      "    R2 0.785043742663586\n",
      "DecisionTreeRegressor\n",
      "    MAE 0.0709604683803007\n",
      "    RMSE 0.17938868234688088\n",
      "    R2 0.9679486713326617\n",
      "Ridge\n",
      "    MAE 0.24044945447277316\n",
      "    RMSE 0.46456562793609857\n",
      "    R2 0.785043735462967\n",
      "Lasso\n",
      "    MAE 0.24133346724120808\n",
      "    RMSE 0.46846873561172514\n",
      "    R2 0.7814165970451792\n",
      "ElasticNet\n",
      "    MAE 0.24161660755129166\n",
      "    RMSE 0.4681730467241525\n",
      "    R2 0.7816924416463952\n"
     ]
    }
   ],
   "source": [
    "# Build some models and check them against training data using MAE, RMSE and R2\n",
    "models = [LinearRegression(), DecisionTreeRegressor(random_state=32), Ridge(alpha=0.01), Lasso(alpha=0.01), ElasticNet(alpha = 0.01)]\n",
    "for model in models:\n",
    "    model.fit(X_train_final, y_train_final)\n",
    "    predictions = model.predict(X_test_final)\n",
    "    print(type(model).__name__)\n",
    "    print(\"    MAE\", mean_absolute_error(y_test_final, predictions))\n",
    "    print(\"    RMSE\", sqrt(mean_squared_error(y_test_final, predictions)))\n",
    "    print(\"    R2\", r2_score(y_test_final, predictions))"
   ]
  },
  {
   "cell_type": "markdown",
   "metadata": {},
   "source": [
    "### <font color='red'> La precisión del modelo baja significativamente al eliminar \"DepDelay\" como variable independiente </font> "
   ]
  },
  {
   "cell_type": "markdown",
   "metadata": {},
   "source": [
    "### Modelo con \"feature engeneering\" sin DepDelay"
   ]
  },
  {
   "cell_type": "code",
   "execution_count": 81,
   "metadata": {},
   "outputs": [],
   "source": [
    "columns_to_drop3_final = ['DepDelay', 'Unnamed: 0', 'index', 'Cancelled', 'ArrDelay', 'CRSElapsedTime', 'ArrTime', 'DepTime', '10%_Delayed']"
   ]
  },
  {
   "cell_type": "code",
   "execution_count": 82,
   "metadata": {},
   "outputs": [],
   "source": [
    "X_train3_final = train3.drop(columns = columns_to_drop3_final, axis=1).values\n",
    "y_train3_final = train3['ArrDelay'].values"
   ]
  },
  {
   "cell_type": "markdown",
   "metadata": {},
   "source": [
    "##### Checking same amount of columns:"
   ]
  },
  {
   "cell_type": "code",
   "execution_count": 83,
   "metadata": {
    "scrolled": true
   },
   "outputs": [
    {
     "name": "stdout",
     "output_type": "stream",
     "text": [
      "621\n",
      "621\n"
     ]
    }
   ],
   "source": [
    "print(len(train3.drop(columns = columns_to_drop3_final, axis=1).columns))\n",
    "print(len(test3.drop(columns = columns_to_drop3_final, axis=1).columns))"
   ]
  },
  {
   "cell_type": "code",
   "execution_count": 84,
   "metadata": {},
   "outputs": [
    {
     "data": {
      "text/plain": [
       "array([[ 7.        , -0.90784465, -0.76883296, ...,  0.        ,\n",
       "         0.        ,  0.        ],\n",
       "       [ 7.        ,  1.73029353,  1.69227782, ...,  0.        ,\n",
       "         0.        ,  0.        ],\n",
       "       [ 5.        , -0.51431022, -0.44812164, ...,  0.        ,\n",
       "         0.        ,  0.        ],\n",
       "       ...,\n",
       "       [ 4.        ,  0.05412839, -0.27556501, ...,  0.        ,\n",
       "         0.        ,  0.        ],\n",
       "       [ 1.        , -0.8932693 , -0.80543589, ...,  0.        ,\n",
       "         0.        ,  0.        ],\n",
       "       [ 1.        ,  0.18530653,  0.11835216, ...,  0.        ,\n",
       "         0.        ,  0.        ]])"
      ]
     },
     "execution_count": 84,
     "metadata": {},
     "output_type": "execute_result"
    }
   ],
   "source": [
    "X_train3_final"
   ]
  },
  {
   "cell_type": "code",
   "execution_count": 85,
   "metadata": {},
   "outputs": [],
   "source": [
    "X_test3_final = test3.drop(columns = columns_to_drop3_final, axis=1).values\n",
    "y_test3_final = test3['ArrDelay'].values"
   ]
  },
  {
   "cell_type": "code",
   "execution_count": 86,
   "metadata": {},
   "outputs": [
    {
     "data": {
      "text/plain": [
       "array([[ 4.        ,  3.17325308,  2.86008535, ...,  0.        ,\n",
       "         0.        ,  0.        ],\n",
       "       [ 7.        , -0.8641186 , -0.71480008, ...,  0.        ,\n",
       "         0.        ,  0.        ],\n",
       "       [ 7.        , -0.13535115, -0.23896209, ...,  0.        ,\n",
       "         0.        ,  0.        ],\n",
       "       ...,\n",
       "       [ 1.        ,  0.37478607,  0.42511951, ...,  0.        ,\n",
       "         0.        ,  0.        ],\n",
       "       [ 2.        ,  1.4533619 ,  1.4691743 , ...,  0.        ,\n",
       "         0.        ,  0.        ],\n",
       "       [ 7.        ,  0.53511491,  0.35191366, ...,  0.        ,\n",
       "         0.        ,  0.        ]])"
      ]
     },
     "execution_count": 86,
     "metadata": {},
     "output_type": "execute_result"
    }
   ],
   "source": [
    "X_test3_final"
   ]
  },
  {
   "cell_type": "code",
   "execution_count": 87,
   "metadata": {},
   "outputs": [
    {
     "data": {
      "text/plain": [
       "array([ 0.78937331, -0.17933952, -0.63727649, ...,  0.77176035,\n",
       "       -0.76056722, -0.84863202])"
      ]
     },
     "execution_count": 87,
     "metadata": {},
     "output_type": "execute_result"
    }
   ],
   "source": [
    "y_train3_final"
   ]
  },
  {
   "cell_type": "code",
   "execution_count": 88,
   "metadata": {},
   "outputs": [
    {
     "data": {
      "text/html": [
       "<div>\n",
       "<style scoped>\n",
       "    .dataframe tbody tr th:only-of-type {\n",
       "        vertical-align: middle;\n",
       "    }\n",
       "\n",
       "    .dataframe tbody tr th {\n",
       "        vertical-align: top;\n",
       "    }\n",
       "\n",
       "    .dataframe thead th {\n",
       "        text-align: right;\n",
       "    }\n",
       "</style>\n",
       "<table border=\"1\" class=\"dataframe\">\n",
       "  <thead>\n",
       "    <tr style=\"text-align: right;\">\n",
       "      <th></th>\n",
       "      <th>DayOfWeek</th>\n",
       "      <th>AirTime</th>\n",
       "      <th>Distance</th>\n",
       "      <th>AvgSpeed</th>\n",
       "      <th>ArrDelay_vs_CRSElapsedTime</th>\n",
       "      <th>Delay_level</th>\n",
       "      <th>ArrTime_Range</th>\n",
       "      <th>DepTime_Range</th>\n",
       "      <th>FullCarrier_AirTran Airways Corporation</th>\n",
       "      <th>FullCarrier_Alaska Airlines Inc.</th>\n",
       "      <th>...</th>\n",
       "      <th>Dest_TYR</th>\n",
       "      <th>Dest_TYS</th>\n",
       "      <th>Dest_VLD</th>\n",
       "      <th>Dest_VPS</th>\n",
       "      <th>Dest_WRG</th>\n",
       "      <th>Dest_WYS</th>\n",
       "      <th>Dest_XNA</th>\n",
       "      <th>Dest_YAK</th>\n",
       "      <th>Dest_YKM</th>\n",
       "      <th>Dest_YUM</th>\n",
       "    </tr>\n",
       "  </thead>\n",
       "  <tbody>\n",
       "    <tr>\n",
       "      <td>747974</td>\n",
       "      <td>7</td>\n",
       "      <td>-0.907845</td>\n",
       "      <td>-0.768833</td>\n",
       "      <td>0.251940</td>\n",
       "      <td>1.487356</td>\n",
       "      <td>2</td>\n",
       "      <td>16</td>\n",
       "      <td>15</td>\n",
       "      <td>0</td>\n",
       "      <td>0</td>\n",
       "      <td>...</td>\n",
       "      <td>0</td>\n",
       "      <td>0</td>\n",
       "      <td>0</td>\n",
       "      <td>0</td>\n",
       "      <td>0</td>\n",
       "      <td>0</td>\n",
       "      <td>0</td>\n",
       "      <td>0</td>\n",
       "      <td>0</td>\n",
       "      <td>0</td>\n",
       "    </tr>\n",
       "    <tr>\n",
       "      <td>896507</td>\n",
       "      <td>7</td>\n",
       "      <td>1.730294</td>\n",
       "      <td>1.692278</td>\n",
       "      <td>0.608784</td>\n",
       "      <td>-0.424566</td>\n",
       "      <td>0</td>\n",
       "      <td>8</td>\n",
       "      <td>5</td>\n",
       "      <td>0</td>\n",
       "      <td>0</td>\n",
       "      <td>...</td>\n",
       "      <td>0</td>\n",
       "      <td>0</td>\n",
       "      <td>0</td>\n",
       "      <td>0</td>\n",
       "      <td>0</td>\n",
       "      <td>0</td>\n",
       "      <td>0</td>\n",
       "      <td>0</td>\n",
       "      <td>0</td>\n",
       "      <td>0</td>\n",
       "    </tr>\n",
       "    <tr>\n",
       "      <td>1525158</td>\n",
       "      <td>5</td>\n",
       "      <td>-0.514310</td>\n",
       "      <td>-0.448122</td>\n",
       "      <td>0.201919</td>\n",
       "      <td>-0.538806</td>\n",
       "      <td>3</td>\n",
       "      <td>13</td>\n",
       "      <td>11</td>\n",
       "      <td>0</td>\n",
       "      <td>0</td>\n",
       "      <td>...</td>\n",
       "      <td>0</td>\n",
       "      <td>0</td>\n",
       "      <td>0</td>\n",
       "      <td>0</td>\n",
       "      <td>0</td>\n",
       "      <td>0</td>\n",
       "      <td>0</td>\n",
       "      <td>0</td>\n",
       "      <td>0</td>\n",
       "      <td>0</td>\n",
       "    </tr>\n",
       "    <tr>\n",
       "      <td>432233</td>\n",
       "      <td>6</td>\n",
       "      <td>-0.718365</td>\n",
       "      <td>-0.676454</td>\n",
       "      <td>-0.134247</td>\n",
       "      <td>-0.508659</td>\n",
       "      <td>3</td>\n",
       "      <td>6</td>\n",
       "      <td>4</td>\n",
       "      <td>0</td>\n",
       "      <td>0</td>\n",
       "      <td>...</td>\n",
       "      <td>0</td>\n",
       "      <td>0</td>\n",
       "      <td>0</td>\n",
       "      <td>0</td>\n",
       "      <td>0</td>\n",
       "      <td>0</td>\n",
       "      <td>0</td>\n",
       "      <td>0</td>\n",
       "      <td>0</td>\n",
       "      <td>0</td>\n",
       "    </tr>\n",
       "    <tr>\n",
       "      <td>1161614</td>\n",
       "      <td>6</td>\n",
       "      <td>-0.645488</td>\n",
       "      <td>-0.416748</td>\n",
       "      <td>0.946229</td>\n",
       "      <td>1.001839</td>\n",
       "      <td>2</td>\n",
       "      <td>0</td>\n",
       "      <td>0</td>\n",
       "      <td>1</td>\n",
       "      <td>0</td>\n",
       "      <td>...</td>\n",
       "      <td>0</td>\n",
       "      <td>0</td>\n",
       "      <td>0</td>\n",
       "      <td>0</td>\n",
       "      <td>0</td>\n",
       "      <td>0</td>\n",
       "      <td>0</td>\n",
       "      <td>0</td>\n",
       "      <td>0</td>\n",
       "      <td>0</td>\n",
       "    </tr>\n",
       "  </tbody>\n",
       "</table>\n",
       "<p>5 rows × 621 columns</p>\n",
       "</div>"
      ],
      "text/plain": [
       "         DayOfWeek   AirTime  Distance  AvgSpeed  ArrDelay_vs_CRSElapsedTime  \\\n",
       "747974           7 -0.907845 -0.768833  0.251940                    1.487356   \n",
       "896507           7  1.730294  1.692278  0.608784                   -0.424566   \n",
       "1525158          5 -0.514310 -0.448122  0.201919                   -0.538806   \n",
       "432233           6 -0.718365 -0.676454 -0.134247                   -0.508659   \n",
       "1161614          6 -0.645488 -0.416748  0.946229                    1.001839   \n",
       "\n",
       "         Delay_level  ArrTime_Range  DepTime_Range  \\\n",
       "747974             2             16             15   \n",
       "896507             0              8              5   \n",
       "1525158            3             13             11   \n",
       "432233             3              6              4   \n",
       "1161614            2              0              0   \n",
       "\n",
       "         FullCarrier_AirTran Airways Corporation  \\\n",
       "747974                                         0   \n",
       "896507                                         0   \n",
       "1525158                                        0   \n",
       "432233                                         0   \n",
       "1161614                                        1   \n",
       "\n",
       "         FullCarrier_Alaska Airlines Inc.  ...  Dest_TYR  Dest_TYS  Dest_VLD  \\\n",
       "747974                                  0  ...         0         0         0   \n",
       "896507                                  0  ...         0         0         0   \n",
       "1525158                                 0  ...         0         0         0   \n",
       "432233                                  0  ...         0         0         0   \n",
       "1161614                                 0  ...         0         0         0   \n",
       "\n",
       "         Dest_VPS  Dest_WRG  Dest_WYS  Dest_XNA  Dest_YAK  Dest_YKM  Dest_YUM  \n",
       "747974          0         0         0         0         0         0         0  \n",
       "896507          0         0         0         0         0         0         0  \n",
       "1525158         0         0         0         0         0         0         0  \n",
       "432233          0         0         0         0         0         0         0  \n",
       "1161614         0         0         0         0         0         0         0  \n",
       "\n",
       "[5 rows x 621 columns]"
      ]
     },
     "execution_count": 88,
     "metadata": {},
     "output_type": "execute_result"
    }
   ],
   "source": [
    "train3.drop(columns=columns_to_drop3_final, axis=1).head()"
   ]
  },
  {
   "cell_type": "code",
   "execution_count": 89,
   "metadata": {},
   "outputs": [
    {
     "data": {
      "text/html": [
       "<div>\n",
       "<style scoped>\n",
       "    .dataframe tbody tr th:only-of-type {\n",
       "        vertical-align: middle;\n",
       "    }\n",
       "\n",
       "    .dataframe tbody tr th {\n",
       "        vertical-align: top;\n",
       "    }\n",
       "\n",
       "    .dataframe thead th {\n",
       "        text-align: right;\n",
       "    }\n",
       "</style>\n",
       "<table border=\"1\" class=\"dataframe\">\n",
       "  <thead>\n",
       "    <tr style=\"text-align: right;\">\n",
       "      <th></th>\n",
       "      <th>DayOfWeek</th>\n",
       "      <th>AirTime</th>\n",
       "      <th>Distance</th>\n",
       "      <th>AvgSpeed</th>\n",
       "      <th>ArrDelay_vs_CRSElapsedTime</th>\n",
       "      <th>Delay_level</th>\n",
       "      <th>ArrTime_Range</th>\n",
       "      <th>DepTime_Range</th>\n",
       "      <th>FullCarrier_AirTran Airways Corporation</th>\n",
       "      <th>FullCarrier_Alaska Airlines Inc.</th>\n",
       "      <th>...</th>\n",
       "      <th>Dest_TYR</th>\n",
       "      <th>Dest_TYS</th>\n",
       "      <th>Dest_VLD</th>\n",
       "      <th>Dest_VPS</th>\n",
       "      <th>Dest_WRG</th>\n",
       "      <th>Dest_WYS</th>\n",
       "      <th>Dest_XNA</th>\n",
       "      <th>Dest_YAK</th>\n",
       "      <th>Dest_YKM</th>\n",
       "      <th>Dest_YUM</th>\n",
       "    </tr>\n",
       "  </thead>\n",
       "  <tbody>\n",
       "    <tr>\n",
       "      <td>331306</td>\n",
       "      <td>4</td>\n",
       "      <td>3.173253</td>\n",
       "      <td>2.860085</td>\n",
       "      <td>0.450941</td>\n",
       "      <td>-0.630832</td>\n",
       "      <td>3</td>\n",
       "      <td>18</td>\n",
       "      <td>16</td>\n",
       "      <td>0</td>\n",
       "      <td>0</td>\n",
       "      <td>...</td>\n",
       "      <td>0</td>\n",
       "      <td>0</td>\n",
       "      <td>0</td>\n",
       "      <td>0</td>\n",
       "      <td>0</td>\n",
       "      <td>0</td>\n",
       "      <td>0</td>\n",
       "      <td>0</td>\n",
       "      <td>0</td>\n",
       "      <td>0</td>\n",
       "    </tr>\n",
       "    <tr>\n",
       "      <td>266174</td>\n",
       "      <td>7</td>\n",
       "      <td>-0.864119</td>\n",
       "      <td>-0.714800</td>\n",
       "      <td>0.370888</td>\n",
       "      <td>5.711037</td>\n",
       "      <td>2</td>\n",
       "      <td>17</td>\n",
       "      <td>16</td>\n",
       "      <td>0</td>\n",
       "      <td>0</td>\n",
       "      <td>...</td>\n",
       "      <td>0</td>\n",
       "      <td>0</td>\n",
       "      <td>0</td>\n",
       "      <td>0</td>\n",
       "      <td>0</td>\n",
       "      <td>0</td>\n",
       "      <td>0</td>\n",
       "      <td>0</td>\n",
       "      <td>0</td>\n",
       "      <td>0</td>\n",
       "    </tr>\n",
       "    <tr>\n",
       "      <td>755686</td>\n",
       "      <td>7</td>\n",
       "      <td>-0.135351</td>\n",
       "      <td>-0.238962</td>\n",
       "      <td>-0.161621</td>\n",
       "      <td>0.638494</td>\n",
       "      <td>2</td>\n",
       "      <td>14</td>\n",
       "      <td>10</td>\n",
       "      <td>0</td>\n",
       "      <td>0</td>\n",
       "      <td>...</td>\n",
       "      <td>0</td>\n",
       "      <td>0</td>\n",
       "      <td>0</td>\n",
       "      <td>0</td>\n",
       "      <td>0</td>\n",
       "      <td>0</td>\n",
       "      <td>0</td>\n",
       "      <td>0</td>\n",
       "      <td>0</td>\n",
       "      <td>0</td>\n",
       "    </tr>\n",
       "    <tr>\n",
       "      <td>1119088</td>\n",
       "      <td>5</td>\n",
       "      <td>0.622567</td>\n",
       "      <td>0.559330</td>\n",
       "      <td>0.339674</td>\n",
       "      <td>0.419535</td>\n",
       "      <td>2</td>\n",
       "      <td>13</td>\n",
       "      <td>9</td>\n",
       "      <td>0</td>\n",
       "      <td>0</td>\n",
       "      <td>...</td>\n",
       "      <td>0</td>\n",
       "      <td>0</td>\n",
       "      <td>0</td>\n",
       "      <td>0</td>\n",
       "      <td>0</td>\n",
       "      <td>0</td>\n",
       "      <td>0</td>\n",
       "      <td>0</td>\n",
       "      <td>0</td>\n",
       "      <td>0</td>\n",
       "    </tr>\n",
       "    <tr>\n",
       "      <td>1516357</td>\n",
       "      <td>2</td>\n",
       "      <td>-0.018748</td>\n",
       "      <td>-0.151812</td>\n",
       "      <td>-0.165756</td>\n",
       "      <td>-0.556259</td>\n",
       "      <td>3</td>\n",
       "      <td>7</td>\n",
       "      <td>6</td>\n",
       "      <td>0</td>\n",
       "      <td>0</td>\n",
       "      <td>...</td>\n",
       "      <td>0</td>\n",
       "      <td>0</td>\n",
       "      <td>0</td>\n",
       "      <td>0</td>\n",
       "      <td>0</td>\n",
       "      <td>0</td>\n",
       "      <td>0</td>\n",
       "      <td>0</td>\n",
       "      <td>0</td>\n",
       "      <td>0</td>\n",
       "    </tr>\n",
       "  </tbody>\n",
       "</table>\n",
       "<p>5 rows × 621 columns</p>\n",
       "</div>"
      ],
      "text/plain": [
       "         DayOfWeek   AirTime  Distance  AvgSpeed  ArrDelay_vs_CRSElapsedTime  \\\n",
       "331306           4  3.173253  2.860085  0.450941                   -0.630832   \n",
       "266174           7 -0.864119 -0.714800  0.370888                    5.711037   \n",
       "755686           7 -0.135351 -0.238962 -0.161621                    0.638494   \n",
       "1119088          5  0.622567  0.559330  0.339674                    0.419535   \n",
       "1516357          2 -0.018748 -0.151812 -0.165756                   -0.556259   \n",
       "\n",
       "         Delay_level  ArrTime_Range  DepTime_Range  \\\n",
       "331306             3             18             16   \n",
       "266174             2             17             16   \n",
       "755686             2             14             10   \n",
       "1119088            2             13              9   \n",
       "1516357            3              7              6   \n",
       "\n",
       "         FullCarrier_AirTran Airways Corporation  \\\n",
       "331306                                         0   \n",
       "266174                                         0   \n",
       "755686                                         0   \n",
       "1119088                                        0   \n",
       "1516357                                        0   \n",
       "\n",
       "         FullCarrier_Alaska Airlines Inc.  ...  Dest_TYR  Dest_TYS  Dest_VLD  \\\n",
       "331306                                  0  ...         0         0         0   \n",
       "266174                                  0  ...         0         0         0   \n",
       "755686                                  0  ...         0         0         0   \n",
       "1119088                                 0  ...         0         0         0   \n",
       "1516357                                 0  ...         0         0         0   \n",
       "\n",
       "         Dest_VPS  Dest_WRG  Dest_WYS  Dest_XNA  Dest_YAK  Dest_YKM  Dest_YUM  \n",
       "331306          0         0         0         0         0         0         0  \n",
       "266174          0         0         0         0         0         0         0  \n",
       "755686          0         0         0         0         0         0         0  \n",
       "1119088         0         0         0         0         0         0         0  \n",
       "1516357         0         0         0         0         0         0         0  \n",
       "\n",
       "[5 rows x 621 columns]"
      ]
     },
     "execution_count": 89,
     "metadata": {},
     "output_type": "execute_result"
    }
   ],
   "source": [
    "test3.drop(columns=columns_to_drop3_final, axis=1).head()"
   ]
  },
  {
   "cell_type": "markdown",
   "metadata": {},
   "source": [
    "### Evaluación del nuevo modelo"
   ]
  },
  {
   "cell_type": "code",
   "execution_count": 90,
   "metadata": {},
   "outputs": [
    {
     "name": "stdout",
     "output_type": "stream",
     "text": [
      "LinearRegression\n",
      "    MAE 87.06574830621068\n",
      "    RMSE 8805.308425065014\n",
      "    R2 -77222720.52855016\n",
      "DecisionTreeRegressor\n",
      "    MAE 0.05934769670806621\n",
      "    RMSE 0.1610072273441332\n",
      "    R2 0.9741805670319417\n",
      "Ridge\n",
      "    MAE 0.23986471169974474\n",
      "    RMSE 0.4436195825053296\n",
      "    R2 0.8039903851038996\n",
      "Lasso\n",
      "    MAE 0.24154196890106486\n",
      "    RMSE 0.46176287508252495\n",
      "    R2 0.7876296001102083\n",
      "ElasticNet\n",
      "    MAE 0.2417621842327534\n",
      "    RMSE 0.46064913485843983\n",
      "    R2 0.7886528101946978\n",
      "LinearRegression\n",
      "    MAE 87.06574830621068\n",
      "    RMSE 8805.308425065014\n",
      "    R2 -77222720.52855016\n"
     ]
    }
   ],
   "source": [
    "# Build some models and check them against training data using MAE, RMSE and R2\n",
    "models = [LinearRegression(), DecisionTreeRegressor(random_state=32), Ridge(alpha=0.01), Lasso(alpha=0.01), ElasticNet(alpha = 0.01), LinearRegression()]\n",
    "for model in models:\n",
    "    model.fit(X_train3_final, y_train3_final)\n",
    "    predictions3_final = model.predict(X_test3_final)\n",
    "    print(type(model).__name__)\n",
    "    print(\"    MAE\", mean_absolute_error(y_test3_final, predictions3_final))\n",
    "    print(\"    RMSE\", sqrt(mean_squared_error(y_test3_final, predictions3_final)))\n",
    "    print(\"    R2\", r2_score(y_test3_final, predictions3_final))"
   ]
  },
  {
   "cell_type": "markdown",
   "metadata": {},
   "source": [
    "### <font color='red'> La precisión del modelo baja significativamente al eliminar \"DepDelay\" como variable independiente </font> "
   ]
  }
 ],
 "metadata": {
  "kernelspec": {
   "display_name": "Python 3",
   "language": "python",
   "name": "python3"
  },
  "language_info": {
   "codemirror_mode": {
    "name": "ipython",
    "version": 3
   },
   "file_extension": ".py",
   "mimetype": "text/x-python",
   "name": "python",
   "nbconvert_exporter": "python",
   "pygments_lexer": "ipython3",
   "version": "3.7.4"
  }
 },
 "nbformat": 4,
 "nbformat_minor": 2
}
